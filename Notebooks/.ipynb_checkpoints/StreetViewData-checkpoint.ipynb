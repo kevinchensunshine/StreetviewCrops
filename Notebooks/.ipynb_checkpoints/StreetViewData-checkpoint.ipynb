{
 "cells": [
  {
   "cell_type": "code",
   "execution_count": null,
   "metadata": {
    "colab": {
     "base_uri": "https://localhost:8080/"
    },
    "executionInfo": {
     "elapsed": 5158,
     "status": "ok",
     "timestamp": 1708043295359,
     "user": {
      "displayName": "Kevin Chen",
      "userId": "00558369244382387043"
     },
     "user_tz": 360
    },
    "id": "ay2CyFTtrTy5",
    "outputId": "fc57e27f-287d-4411-c703-a08fc3ed90c6"
   },
   "outputs": [
    {
     "name": "stdout",
     "output_type": "stream",
     "text": [
      "Requirement already satisfied: requests in /usr/local/lib/python3.10/dist-packages (2.31.0)\n",
      "Requirement already satisfied: charset-normalizer<4,>=2 in /usr/local/lib/python3.10/dist-packages (from requests) (3.3.2)\n",
      "Requirement already satisfied: idna<4,>=2.5 in /usr/local/lib/python3.10/dist-packages (from requests) (3.6)\n",
      "Requirement already satisfied: urllib3<3,>=1.21.1 in /usr/local/lib/python3.10/dist-packages (from requests) (2.0.7)\n",
      "Requirement already satisfied: certifi>=2017.4.17 in /usr/local/lib/python3.10/dist-packages (from requests) (2024.2.2)\n"
     ]
    }
   ],
   "source": [
    "!pip install requests"
   ]
  },
  {
   "cell_type": "code",
   "execution_count": null,
   "metadata": {
    "colab": {
     "base_uri": "https://localhost:8080/"
    },
    "executionInfo": {
     "elapsed": 66482,
     "status": "ok",
     "timestamp": 1708054125789,
     "user": {
      "displayName": "Kevin Chen",
      "userId": "00558369244382387043"
     },
     "user_tz": 360
    },
    "id": "0Pn8u6w6wUv1",
    "outputId": "2d8cf928-a069-45e8-ba78-01ac96b894eb"
   },
   "outputs": [
    {
     "name": "stdout",
     "output_type": "stream",
     "text": [
      "Mounted at /content/drive\n"
     ]
    }
   ],
   "source": [
    "%env API_KEY=MY_VALUE"
   ]
  },
  {
   "cell_type": "code",
   "execution_count": null,
   "metadata": {
    "id": "FIC4zMZEtQ-B"
   },
   "outputs": [],
   "source": [
    "import requests\n",
    "import urllib\n",
    "import types\n",
    "import pandas as pd\n",
    "import json\n",
    "import numpy as np\n",
    "import matplotlib.pyplot as plt\n",
    "import os"
   ]
  },
  {
   "cell_type": "code",
   "execution_count": null,
   "metadata": {
    "id": "VijMieZ69buF"
   },
   "outputs": [],
   "source": [
    "seen_images = set()"
   ]
  },
  {
   "cell_type": "code",
   "execution_count": null,
   "metadata": {
    "id": "dzDNsOiEOG1H"
   },
   "outputs": [],
   "source": [
    "image_folders = ['2024_Streetview_Images'\n",
    "                , '2023_Streetview_Images'\n",
    "                , '2022_Streetview_Images'\n",
    "                , '2021_Streetview_Images'\n",
    "                , '2020_Streetview_Images'\n",
    "                , '2019_Streetview_Images'\n",
    "                , '2018_Streetview_Images'\n",
    "                , '2017_Streetview_Images'\n",
    "                , '2016_Streetview_Images']\n",
    "\n",
    "def populate_screen(folder):\n",
    "  seen_list = os.listdir('/content/drive/MyDrive/Kevin_Chen/Dataset/{}'.format(folder))\n",
    "  for image_name in seen_list:\n",
    "    loc, _, _, _, _ = image_name.split('_')\n",
    "    print(loc)\n",
    "    seen_images.add(loc)\n",
    "\n",
    "def collect_existing(image_folders):\n",
    "  for folder in image_folders:\n",
    "    populate_screen(folder)"
   ]
  },
  {
   "cell_type": "code",
   "execution_count": null,
   "metadata": {
    "colab": {
     "base_uri": "https://localhost:8080/"
    },
    "executionInfo": {
     "elapsed": 8,
     "status": "ok",
     "timestamp": 1708043307605,
     "user": {
      "displayName": "Kevin Chen",
      "userId": "00558369244382387043"
     },
     "user_tz": 360
    },
    "id": "emY3gfsXP7Ww",
    "outputId": "0780ec51-deeb-4105-d8f1-6faedcda7b4b"
   },
   "outputs": [
    {
     "name": "stdout",
     "output_type": "stream",
     "text": [
      "36.87176078094009,-121.7710401208757\n",
      "36.88111162054742,-121.772073069906\n",
      "36.87553010987745,-121.770677864903\n",
      "36.87094633762481,-121.7625450093948\n",
      "36.86919301699279,-121.7624103377959\n",
      "36.87085141875854,-121.7625357936546\n",
      "36.87560921235836,-121.7709401463425\n",
      "36.87313688571738,-121.7620219714705\n",
      "36.8792239749521,-121.7714827896477\n",
      "36.88301737927015,-121.7618439154491\n",
      "36.88021752691228,-121.7719310204202\n",
      "36.88474415590378,-121.7724228899019\n",
      "36.88099258515006,-121.7718437390065\n",
      "36.8819474493263,-121.7722034701319\n",
      "36.87187201697716,-121.7698000826037\n",
      "36.87176078094009,-121.7710401208757\n",
      "36.88111162054742,-121.772073069906\n",
      "36.87553010987745,-121.770677864903\n",
      "36.87094633762481,-121.7625450093948\n",
      "36.86919301699279,-121.7624103377959\n",
      "36.87085141875854,-121.7625357936546\n",
      "36.87560921235836,-121.7709401463425\n",
      "36.87313688571738,-121.7620219714705\n",
      "36.8792239749521,-121.7714827896477\n",
      "36.88301737927015,-121.7618439154491\n",
      "36.88021752691228,-121.7719310204202\n",
      "36.88474415590378,-121.7724228899019\n",
      "36.88099258515006,-121.7718437390065\n",
      "36.8819474493263,-121.7722034701319\n",
      "36.87187201697716,-121.7698000826037\n",
      "36.87176078094009,-121.7710401208757\n",
      "36.88111162054742,-121.772073069906\n",
      "36.87553010987745,-121.770677864903\n",
      "36.87094633762481,-121.7625450093948\n",
      "36.86919301699279,-121.7624103377959\n",
      "36.87085141875854,-121.7625357936546\n",
      "36.87560921235836,-121.7709401463425\n",
      "36.87313688571738,-121.7620219714705\n",
      "36.8792239749521,-121.7714827896477\n",
      "36.88301737927015,-121.7618439154491\n",
      "36.88021752691228,-121.7719310204202\n",
      "36.88474415590378,-121.7724228899019\n",
      "36.88099258515006,-121.7718437390065\n",
      "36.8819474493263,-121.7722034701319\n",
      "36.87187201697716,-121.7698000826037\n",
      "36.87929144865187,-121.7662322878274\n",
      "36.87038313440645,-121.7673708230711\n",
      "36.88376903353796,-121.7952207238318\n",
      "36.87010130323003,-121.7679123535205\n",
      "36.88493106035024,-121.800173928986\n",
      "36.87640814880245,-121.7713995068508\n",
      "36.87349673585641,-121.7824049036563\n",
      "36.85540264897745,-121.7711152321184\n",
      "36.87068432008514,-121.7667890378781\n",
      "36.85585969331477,-121.7949911797222\n",
      "36.87556334406723,-121.7766706291901\n",
      "36.87383239250354,-121.782100924783\n",
      "36.85996615036778,-121.7947619828036\n",
      "36.87567899996267,-121.7757981967213\n",
      "36.85622481088137,-121.7960938736712\n",
      "36.85382296159504,-121.7723122238039\n",
      "36.86982520370639,-121.7687668517649\n",
      "36.85352884629837,-121.7881447943157\n",
      "36.86183633137935,-121.7710934116121\n",
      "36.85908663590725,-121.7711160145269\n",
      "36.87182498844043,-121.784483272924\n",
      "36.83821039446846,-121.7844312055089\n",
      "36.85449262085362,-121.771108016573\n",
      "36.87216109446901,-121.7840577797301\n",
      "36.87467181095292,-121.7802546938874\n",
      "36.86638117430159,-121.7713096169983\n",
      "36.85077796844267,-121.7711382697001\n",
      "36.8516648807654,-121.7711268813112\n",
      "36.87222971719264,-121.7638170350739\n",
      "36.85380919841672,-121.7758389671827\n",
      "36.8758621663971,-121.7740784346934\n",
      "36.88197646579971,-121.7942510032224\n",
      "36.85444685071787,-121.7718279170697\n",
      "36.87254505872915,-121.7868245430294\n",
      "36.88296092804691,-121.7984988681049\n",
      "36.85446970477513,-121.7909204958697\n",
      "36.86551012522494,-121.7709302358187\n",
      "36.87464784138938,-121.7889582852418\n",
      "36.88197440315611,-121.7642905959941\n",
      "36.86098435430709,-121.7950958261678\n",
      "36.86741960152629,-121.7926315675235\n",
      "36.86360804427699,-121.7713566483518\n",
      "36.88014941320404,-121.8013609620284\n",
      "36.86271676026917,-121.7710837619048\n",
      "36.85796587084505,-121.7955511761279\n",
      "36.87038313440645,-121.7673708230711\n",
      "36.88376903353796,-121.7952207238318\n",
      "36.87010130323003,-121.7679123535205\n",
      "36.88493106035024,-121.800173928986\n",
      "36.87640814880245,-121.7713995068508\n",
      "36.87349673585641,-121.7824049036563\n",
      "36.85540264897745,-121.7711152321184\n",
      "36.87068432008514,-121.7667890378781\n",
      "36.85585969331477,-121.7949911797222\n",
      "36.87556334406723,-121.7766706291901\n",
      "36.87383239250354,-121.782100924783\n",
      "36.85996615036778,-121.7947619828036\n",
      "36.87567899996267,-121.7757981967213\n",
      "36.85622481088137,-121.7960938736712\n",
      "36.85382296159504,-121.7723122238039\n",
      "36.86982520370639,-121.7687668517649\n",
      "36.85352884629837,-121.7881447943157\n",
      "36.86183633137935,-121.7710934116121\n",
      "36.85908663590725,-121.7711160145269\n",
      "36.87182498844043,-121.784483272924\n",
      "36.83821039446846,-121.7844312055089\n",
      "36.85449262085362,-121.771108016573\n",
      "36.87216109446901,-121.7840577797301\n",
      "36.87467181095292,-121.7802546938874\n",
      "36.86638117430159,-121.7713096169983\n",
      "36.85077796844267,-121.7711382697001\n",
      "36.8516648807654,-121.7711268813112\n",
      "36.87222971719264,-121.7638170350739\n",
      "36.85380919841672,-121.7758389671827\n",
      "36.8758621663971,-121.7740784346934\n",
      "36.88197646579971,-121.7942510032224\n",
      "36.85444685071787,-121.7718279170697\n",
      "36.87254505872915,-121.7868245430294\n",
      "36.88296092804691,-121.7984988681049\n",
      "36.85446970477513,-121.7909204958697\n",
      "36.86551012522494,-121.7709302358187\n",
      "36.87464784138938,-121.7889582852418\n",
      "36.88197440315611,-121.7642905959941\n",
      "36.86098435430709,-121.7950958261678\n",
      "36.86741960152629,-121.7926315675235\n",
      "36.86360804427699,-121.7713566483518\n",
      "36.88014941320404,-121.8013609620284\n",
      "36.86271676026917,-121.7710837619048\n",
      "36.85796587084505,-121.7955511761279\n",
      "36.87929144865187,-121.7662322878274\n",
      "36.87038313440645,-121.7673708230711\n",
      "36.88376903353796,-121.7952207238318\n",
      "36.87010130323003,-121.7679123535205\n",
      "36.88493106035024,-121.800173928986\n",
      "36.87640814880245,-121.7713995068508\n",
      "36.87349673585641,-121.7824049036563\n",
      "36.85540264897745,-121.7711152321184\n",
      "36.87068432008514,-121.7667890378781\n",
      "36.85585969331477,-121.7949911797222\n",
      "36.87556334406723,-121.7766706291901\n",
      "36.87383239250354,-121.782100924783\n",
      "36.85996615036778,-121.7947619828036\n",
      "36.87567899996267,-121.7757981967213\n",
      "36.85622481088137,-121.7960938736712\n",
      "36.85382296159504,-121.7723122238039\n",
      "36.86982520370639,-121.7687668517649\n",
      "36.85352884629837,-121.7881447943157\n",
      "36.86183633137935,-121.7710934116121\n",
      "36.85908663590725,-121.7711160145269\n",
      "36.87182498844043,-121.784483272924\n",
      "36.83821039446846,-121.7844312055089\n",
      "36.85449262085362,-121.771108016573\n",
      "36.87216109446901,-121.7840577797301\n",
      "36.87467181095292,-121.7802546938874\n",
      "36.86638117430159,-121.7713096169983\n",
      "36.85077796844267,-121.7711382697001\n",
      "36.8516648807654,-121.7711268813112\n",
      "36.87222971719264,-121.7638170350739\n",
      "36.85380919841672,-121.7758389671827\n",
      "36.8758621663971,-121.7740784346934\n",
      "36.88197646579971,-121.7942510032224\n",
      "36.85444685071787,-121.7718279170697\n",
      "36.87254505872915,-121.7868245430294\n",
      "36.88296092804691,-121.7984988681049\n",
      "36.85446970477513,-121.7909204958697\n",
      "36.86551012522494,-121.7709302358187\n",
      "36.87464784138938,-121.7889582852418\n",
      "36.88197440315611,-121.7642905959941\n",
      "36.86098435430709,-121.7950958261678\n",
      "36.86741960152629,-121.7926315675235\n",
      "36.86360804427699,-121.7713566483518\n",
      "36.88014941320404,-121.8013609620284\n",
      "36.86271676026917,-121.7710837619048\n",
      "36.85796587084505,-121.7955511761279\n",
      "36.87929144865187,-121.7662322878274\n",
      "36.86543648291226,-121.7714612300152\n",
      "36.86543648291226,-121.7714612300152\n",
      "36.86543648291226,-121.7714612300152\n"
     ]
    }
   ],
   "source": [
    "collect_existing(image_folders)"
   ]
  },
  {
   "cell_type": "code",
   "execution_count": null,
   "metadata": {
    "id": "pnz8zctZuBIk"
   },
   "outputs": [],
   "source": [
    "meta_base = 'https://maps.googleapis.com/maps/api/streetview/metadata?'\n",
    "pic_base = 'https://maps.googleapis.com/maps/api/streetview?'\n",
    "api_key = userdata.get('StreetViewAPI')\n",
    "meta_params = {'key': api_key,\n",
    "               'location': '36.852833,-121.782302'}\n",
    "pic_params = {'key': api_key,\n",
    "              'location': '36.852833,-121.782302',\n",
    "              'size': \"640x640\",\n",
    "              'souce': 'outdoors'}"
   ]
  },
  {
   "cell_type": "code",
   "execution_count": null,
   "metadata": {
    "colab": {
     "base_uri": "https://localhost:8080/"
    },
    "executionInfo": {
     "elapsed": 292,
     "status": "ok",
     "timestamp": 1708054142330,
     "user": {
      "displayName": "Kevin Chen",
      "userId": "00558369244382387043"
     },
     "user_tz": 360
    },
    "id": "R4CY9yzv_NHx",
    "outputId": "e25f1939-9573-426d-99e0-1a984bc248d7"
   },
   "outputs": [
    {
     "data": {
      "text/plain": [
       "{'copyright': '© Google',\n",
       " 'date': '2021-05',\n",
       " 'location': {'lat': 36.85277500085382, 'lng': -121.7823315385135},\n",
       " 'pano_id': 'LmAli5-M7Jt4S548oBPwvQ',\n",
       " 'status': 'OK'}"
      ]
     },
     "execution_count": 5,
     "metadata": {},
     "output_type": "execute_result"
    }
   ],
   "source": [
    "meta = requests.get(meta_base, meta_params)\n",
    "meta.json()"
   ]
  },
  {
   "cell_type": "code",
   "execution_count": null,
   "metadata": {
    "id": "d2FWMibU4P_l"
   },
   "outputs": [],
   "source": [
    "def image_is_in_season(date):\n",
    "  year, month = map(int, date.split('-'))\n",
    "  return (2016 <= year <= 2024) and (5 <= month <= 7)\n",
    "\n",
    "def verify_meta(meta) -> bool:\n",
    "    if meta.status_code == 200:\n",
    "        response_data = meta.json()  # Parse the JSON response\n",
    "        if response_data.get(\"status\") == \"OK\":\n",
    "            return True\n",
    "        else:\n",
    "            return False\n",
    "    else:\n",
    "        return False"
   ]
  },
  {
   "cell_type": "code",
   "execution_count": null,
   "metadata": {
    "id": "iTB8TFRLBQqh"
   },
   "outputs": [],
   "source": [
    "import math\n",
    "def long_lat_measure(lat1, lon1, lat2, lon2):\n",
    "    R = 6378.137;\n",
    "    dLat = lat2 * math.PI / 180 - lat1 * math.PI / 180;\n",
    "    dLon = lon2 * math.PI / 180 - lon1 * math.PI / 180;\n",
    "    a = math.sin(dLat/2) * Math.sin(dLat/2) +\n",
    "    math.cos(lat1 * math.PI / 180) * math.cos(lat2 * math.PI / 180) *\n",
    "    math.sin(dLon/2) * math.sin(dLon/2);\n",
    "    c = 2 * math.atan2(math.sqrt(a), math.sqrt(1-a));\n",
    "    d = R * c;\n",
    "    return d * 1000;\n"
   ]
  },
  {
   "cell_type": "code",
   "execution_count": null,
   "metadata": {
    "colab": {
     "base_uri": "https://localhost:8080/"
    },
    "executionInfo": {
     "elapsed": 106074,
     "status": "ok",
     "timestamp": 1708054274827,
     "user": {
      "displayName": "Kevin Chen",
      "userId": "00558369244382387043"
     },
     "user_tz": 360
    },
    "id": "y-yyUXITiWXH",
    "outputId": "4ec7fade-86ca-4aae-b61d-5d59a42e3b38"
   },
   "outputs": [
    {
     "name": "stdout",
     "output_type": "stream",
     "text": [
      "36.823360777693914\n",
      "36.82507797387862\n",
      "36.826795170063335\n",
      "36.82851236624804\n",
      "36.830229562432756\n",
      "36.83194675861746\n",
      "36.83366395480218\n",
      "36.83538115098688\n",
      "36.8370983471716\n",
      "36.838815543356304\n",
      "36.84053273954102\n",
      "36.842249935725725\n",
      "36.84396713191043\n",
      "36.845684328095146\n",
      "36.84740152427985\n",
      "36.84911872046457\n",
      "36.850835916649274\n",
      "36.85255311283399\n",
      "36.854270309018695\n",
      "36.85598750520341\n",
      "36.857704701388116\n",
      "36.85942189757283\n",
      "36.86113909375754\n",
      "36.86285628994225\n",
      "36.86457348612696\n"
     ]
    }
   ],
   "source": [
    "# Only run if you haven't cached x.json or y.json\n",
    "if (not os.path.exists('/content/x.json')):\n",
    "  bounding_x = [-121.80123547312517, -121.76038006541033]\n",
    "  bounding_y = [36.823360777693914, 36.86457348612696]\n",
    "\n",
    "  succeeded = set()\n",
    "\n",
    "  delta = 0.0015\n",
    "\n",
    "  for i in np.arange(bounding_y[0], bounding_y[1] + delta, delta):\n",
    "      for j in np.arange(bounding_x[0], bounding_x[1] + delta, delta):\n",
    "          meta_params = {'key': api_key,\n",
    "                        'location': f'{i},{j}'}\n",
    "          meta_response = requests.get(meta_base, params=meta_params)\n",
    "          if verify_meta(meta_response):  # Assuming verify_meta is a function defined elsewhere\n",
    "              lat = meta_response.json()['location']['lat']\n",
    "              lng = meta_response.json()['location']['lng']\n",
    "              date = meta_response.json()['date']\n",
    "              pano_id = meta_response.json()['pano_id']\n",
    "\n",
    "              if (image_is_in_season(date)):\n",
    "                succeeded.add((lat, lng))\n",
    "\n",
    "      print(i)"
   ]
  },
  {
   "cell_type": "code",
   "execution_count": null,
   "metadata": {
    "colab": {
     "base_uri": "https://localhost:8080/"
    },
    "executionInfo": {
     "elapsed": 185,
     "status": "ok",
     "timestamp": 1708043489305,
     "user": {
      "displayName": "Kevin Chen",
      "userId": "00558369244382387043"
     },
     "user_tz": 360
    },
    "id": "axVJK_zitQtd",
    "outputId": "d954c138-185b-4bd3-8227-1f743f12e121"
   },
   "outputs": [
    {
     "data": {
      "text/plain": [
       "58"
      ]
     },
     "execution_count": 18,
     "metadata": {},
     "output_type": "execute_result"
    }
   ],
   "source": [
    "len(succeeded)"
   ]
  },
  {
   "cell_type": "code",
   "execution_count": null,
   "metadata": {
    "id": "ptPE-ETvwaM9"
   },
   "outputs": [],
   "source": [
    "# f = open('x.json', 'w')\n",
    "# json.dump(x, f)\n",
    "# f.close()\n",
    "\n",
    "# f = open('y.json', 'w')\n",
    "# json.dump(y, f)\n",
    "# f.close()"
   ]
  },
  {
   "cell_type": "code",
   "execution_count": null,
   "metadata": {
    "id": "kjkyTFFPYKhj"
   },
   "outputs": [],
   "source": [
    "# if (os.path.exists('/content/x.json')):\n",
    "#   f = open('/content/x.json', 'r')\n",
    "#   list1 = json.load(f)\n",
    "#   f.close()\n",
    "#   f = open('/content/y.json', 'r')\n",
    "#   list2 = json.load(f)\n",
    "#   f.close()"
   ]
  },
  {
   "cell_type": "code",
   "execution_count": null,
   "metadata": {
    "colab": {
     "base_uri": "https://localhost:8080/",
     "height": 216
    },
    "executionInfo": {
     "elapsed": 14,
     "status": "error",
     "timestamp": 1708043499585,
     "user": {
      "displayName": "Kevin Chen",
      "userId": "00558369244382387043"
     },
     "user_tz": 360
    },
    "id": "Xyhk9H55YnAG",
    "outputId": "8524bcf6-da05-4fc8-d411-4b6c1586d3a0"
   },
   "outputs": [
    {
     "ename": "NameError",
     "evalue": "name 'list1' is not defined",
     "output_type": "error",
     "traceback": [
      "\u001b[0;31m---------------------------------------------------------------------------\u001b[0m",
      "\u001b[0;31mNameError\u001b[0m                                 Traceback (most recent call last)",
      "\u001b[0;32m<ipython-input-20-ba8de6d377d0>\u001b[0m in \u001b[0;36m<cell line: 2>\u001b[0;34m()\u001b[0m\n\u001b[1;32m      1\u001b[0m \u001b[0msucceeded\u001b[0m \u001b[0;34m=\u001b[0m \u001b[0mset\u001b[0m\u001b[0;34m(\u001b[0m\u001b[0;34m)\u001b[0m\u001b[0;34m\u001b[0m\u001b[0;34m\u001b[0m\u001b[0m\n\u001b[0;32m----> 2\u001b[0;31m \u001b[0;32mfor\u001b[0m \u001b[0mi\u001b[0m \u001b[0;32min\u001b[0m \u001b[0mrange\u001b[0m \u001b[0;34m(\u001b[0m\u001b[0mlen\u001b[0m\u001b[0;34m(\u001b[0m\u001b[0mlist1\u001b[0m\u001b[0;34m)\u001b[0m\u001b[0;34m)\u001b[0m\u001b[0;34m:\u001b[0m\u001b[0;34m\u001b[0m\u001b[0;34m\u001b[0m\u001b[0m\n\u001b[0m\u001b[1;32m      3\u001b[0m   \u001b[0msucceeded\u001b[0m\u001b[0;34m.\u001b[0m\u001b[0madd\u001b[0m\u001b[0;34m(\u001b[0m\u001b[0;34m(\u001b[0m\u001b[0mlist1\u001b[0m\u001b[0;34m[\u001b[0m\u001b[0mi\u001b[0m\u001b[0;34m]\u001b[0m\u001b[0;34m,\u001b[0m \u001b[0mlist2\u001b[0m\u001b[0;34m[\u001b[0m\u001b[0mi\u001b[0m\u001b[0;34m]\u001b[0m\u001b[0;34m)\u001b[0m\u001b[0;34m)\u001b[0m\u001b[0;34m\u001b[0m\u001b[0;34m\u001b[0m\u001b[0m\n",
      "\u001b[0;31mNameError\u001b[0m: name 'list1' is not defined"
     ]
    }
   ],
   "source": [
    "# succeeded = set()\n",
    "# for i in range (len(list1)):\n",
    "#   succeeded.add((list1[i], list2[i]))"
   ]
  },
  {
   "cell_type": "code",
   "execution_count": null,
   "metadata": {
    "id": "W42abeUkiugp"
   },
   "outputs": [],
   "source": [
    "to_list = list(succeeded)"
   ]
  },
  {
   "cell_type": "code",
   "execution_count": null,
   "metadata": {
    "id": "VMNELS3OprLS"
   },
   "outputs": [],
   "source": [
    "x = [coord[0] for coord in to_list]\n",
    "y = [coord[1] for coord in to_list]"
   ]
  },
  {
   "cell_type": "code",
   "execution_count": null,
   "metadata": {
    "colab": {
     "base_uri": "https://localhost:8080/",
     "height": 463
    },
    "executionInfo": {
     "elapsed": 289,
     "status": "ok",
     "timestamp": 1708043583897,
     "user": {
      "displayName": "Kevin Chen",
      "userId": "00558369244382387043"
     },
     "user_tz": 360
    },
    "id": "g4T0x5QVp4Z2",
    "outputId": "bd57c3bd-1c4a-4c7f-9c67-35ca3c724f40"
   },
   "outputs": [
    {
     "data": {
      "text/plain": [
       "<matplotlib.collections.PathCollection at 0x7980bde099f0>"
      ]
     },
     "execution_count": 27,
     "metadata": {},
     "output_type": "execute_result"
    },
    {
     "data": {
      "image/png": "[encoded data removed]",
      "text/plain": [
       "<Figure size 640x480 with 1 Axes>"
      ]
     },
     "metadata": {},
     "output_type": "display_data"
    }
   ],
   "source": [
    "plt.scatter(x, y)"
   ]
  },
  {
   "cell_type": "code",
   "execution_count": null,
   "metadata": {
    "id": "ALUmvxjiQ0S9"
   },
   "outputs": [],
   "source": [
    "def route_to_folder(location, bearing, date, pano_id, pic_response):\n",
    "  year, month = map(int, date.split('-'))\n",
    "  path_to_folder = \"/content/drive/MyDrive/Kevin_Chen/Dataset/{}_Streetview_Images\".format(year)\n",
    "  with open('{}/{}_{}_{}_{}.jpg\"'.format(path_to_folder, location, str(int(bearing)), date, pano_id), \"wb\") as file:\n",
    "    print(\"Saved to \" + path_to_folder + \"/\" + location + \"_\" + str(int(bearing)) + \".jpg\")\n",
    "    file.write(pic_response.content)\n",
    "\n",
    "def load_streetview(location, bearing=None):\n",
    "\n",
    "  if (location in seen_images):\n",
    "    return False\n",
    "\n",
    "  meta_params = {'key': api_key,\n",
    "               'location': location}\n",
    "\n",
    "  if bearing is not None:\n",
    "    pic_params = {'key': api_key,\n",
    "                  'location': location,\n",
    "                  'size': \"640x640\",\n",
    "                  'heading': bearing}\n",
    "  else:\n",
    "    pic_params = {'key': api_key,\n",
    "                  'location': location,\n",
    "                  'size': \"640x640\"}\n",
    "  meta_response = requests.get(meta_base, params=meta_params)\n",
    "  if (verify_meta(meta_response) == False):\n",
    "    return False\n",
    "  date = meta_response.json()['date']\n",
    "\n",
    "  if (not image_is_in_season(date)):\n",
    "    return False\n",
    "\n",
    "  pano_id = meta_response.json()['pano_id']\n",
    "  pic_response = requests.get(pic_base, params=pic_params)\n",
    "\n",
    "  print(pic_response.headers)\n",
    "\n",
    "  route_to_folder(location, bearing, date, pano_id, pic_response)\n",
    "  return True"
   ]
  },
  {
   "cell_type": "code",
   "execution_count": null,
   "metadata": {
    "colab": {
     "base_uri": "https://localhost:8080/"
    },
    "executionInfo": {
     "elapsed": 23235,
     "status": "ok",
     "timestamp": 1708054505048,
     "user": {
      "displayName": "Kevin Chen",
      "userId": "00558369244382387043"
     },
     "user_tz": 360
    },
    "id": "g7zjERG60-Bo",
    "outputId": "773d30f1-9bb3-4998-dbea-3bd03507e7f3"
   },
   "outputs": [
    {
     "name": "stdout",
     "output_type": "stream",
     "text": [
      "36.83825002528395,-121.7741012978005\n",
      "{'Content-Type': 'image/jpeg', 'Date': 'Fri, 16 Feb 2024 03:34:41 GMT', 'Expires': 'Sat, 17 Feb 2024 03:34:41 GMT', 'Cache-Control': 'public, max-age=86400', 'Access-Control-Allow-Origin': '*', 'Server': 'scaffolding on HTTPServer2', 'Content-Length': '94675', 'X-XSS-Protection': '0', 'X-Frame-Options': 'SAMEORIGIN', 'Server-Timing': 'gfet4t7; dur=197'}\n",
      "Saved to /content/drive/MyDrive/Kevin_Chen/Dataset/2021_Streetview_Images/36.83825002528395,-121.7741012978005_0.jpg\n",
      "36.85423798134965,-121.77110227891\n",
      "{'Content-Type': 'image/jpeg', 'Date': 'Fri, 16 Feb 2024 03:34:42 GMT', 'Expires': 'Sat, 17 Feb 2024 03:34:42 GMT', 'Cache-Control': 'public, max-age=86400', 'Access-Control-Allow-Origin': '*', 'Server': 'scaffolding on HTTPServer2', 'Content-Length': '44865', 'X-XSS-Protection': '0', 'X-Frame-Options': 'SAMEORIGIN', 'Server-Timing': 'gfet4t7; dur=136'}\n",
      "Saved to /content/drive/MyDrive/Kevin_Chen/Dataset/2021_Streetview_Images/36.85423798134965,-121.77110227891_0.jpg\n",
      "36.82235019342026,-121.7823805645147\n",
      "{'Content-Type': 'image/jpeg', 'Date': 'Fri, 16 Feb 2024 03:34:42 GMT', 'Expires': 'Sat, 17 Feb 2024 03:34:42 GMT', 'Cache-Control': 'public, max-age=86400', 'Access-Control-Allow-Origin': '*', 'Server': 'scaffolding on HTTPServer2', 'Content-Length': '116705', 'X-XSS-Protection': '0', 'X-Frame-Options': 'SAMEORIGIN', 'Server-Timing': 'gfet4t7; dur=238'}\n",
      "Saved to /content/drive/MyDrive/Kevin_Chen/Dataset/2021_Streetview_Images/36.82235019342026,-121.7823805645147_0.jpg\n",
      "36.86142729399495,-121.7959792329464\n",
      "{'Content-Type': 'image/jpeg', 'Date': 'Fri, 16 Feb 2024 03:34:42 GMT', 'Expires': 'Sat, 17 Feb 2024 03:34:42 GMT', 'Cache-Control': 'public, max-age=86400', 'Access-Control-Allow-Origin': '*', 'Server': 'scaffolding on HTTPServer2', 'Content-Length': '67936', 'X-XSS-Protection': '0', 'X-Frame-Options': 'SAMEORIGIN', 'Server-Timing': 'gfet4t7; dur=118'}\n",
      "Saved to /content/drive/MyDrive/Kevin_Chen/Dataset/2021_Streetview_Images/36.86142729399495,-121.7959792329464_0.jpg\n",
      "36.85255499027136,-121.7711116678129\n",
      "{'Content-Type': 'image/jpeg', 'Date': 'Fri, 16 Feb 2024 03:34:43 GMT', 'Expires': 'Sat, 17 Feb 2024 03:34:43 GMT', 'Cache-Control': 'public, max-age=86400', 'Access-Control-Allow-Origin': '*', 'Server': 'scaffolding on HTTPServer2', 'Content-Length': '50576', 'X-XSS-Protection': '0', 'X-Frame-Options': 'SAMEORIGIN', 'Server-Timing': 'gfet4t7; dur=178'}\n",
      "Saved to /content/drive/MyDrive/Kevin_Chen/Dataset/2021_Streetview_Images/36.85255499027136,-121.7711116678129_0.jpg\n",
      "36.85754307305681,-121.7957644659642\n",
      "{'Content-Type': 'image/jpeg', 'Date': 'Fri, 16 Feb 2024 03:34:43 GMT', 'Expires': 'Sat, 17 Feb 2024 03:34:43 GMT', 'Cache-Control': 'public, max-age=86400', 'Access-Control-Allow-Origin': '*', 'Server': 'scaffolding on HTTPServer2', 'Content-Length': '51910', 'X-XSS-Protection': '0', 'X-Frame-Options': 'SAMEORIGIN', 'Server-Timing': 'gfet4t7; dur=154'}\n",
      "Saved to /content/drive/MyDrive/Kevin_Chen/Dataset/2021_Streetview_Images/36.85754307305681,-121.7957644659642_0.jpg\n",
      "36.8285649239932,-121.7893017941076\n",
      "{'Content-Type': 'image/jpeg', 'Date': 'Fri, 16 Feb 2024 03:34:43 GMT', 'Expires': 'Sat, 17 Feb 2024 03:34:43 GMT', 'Cache-Control': 'public, max-age=86400', 'Access-Control-Allow-Origin': '*', 'Server': 'scaffolding on HTTPServer2', 'Content-Length': '55567', 'X-XSS-Protection': '0', 'X-Frame-Options': 'SAMEORIGIN', 'Server-Timing': 'gfet4t7; dur=163'}\n",
      "Saved to /content/drive/MyDrive/Kevin_Chen/Dataset/2021_Streetview_Images/36.8285649239932,-121.7893017941076_0.jpg\n",
      "36.85986174155519,-121.7947695444842\n",
      "{'Content-Type': 'image/jpeg', 'Date': 'Fri, 16 Feb 2024 03:34:44 GMT', 'Expires': 'Sat, 17 Feb 2024 03:34:44 GMT', 'Cache-Control': 'public, max-age=86400', 'Access-Control-Allow-Origin': '*', 'Server': 'scaffolding on HTTPServer2', 'Content-Length': '119275', 'X-XSS-Protection': '0', 'X-Frame-Options': 'SAMEORIGIN', 'Server-Timing': 'gfet4t7; dur=257'}\n",
      "Saved to /content/drive/MyDrive/Kevin_Chen/Dataset/2021_Streetview_Images/36.85986174155519,-121.7947695444842_0.jpg\n",
      "36.86284270768861,-121.7710823709559\n",
      "{'Content-Type': 'image/jpeg', 'Date': 'Fri, 16 Feb 2024 03:34:44 GMT', 'Expires': 'Sat, 17 Feb 2024 03:34:44 GMT', 'Cache-Control': 'public, max-age=86400', 'Access-Control-Allow-Origin': '*', 'Server': 'scaffolding on HTTPServer2', 'Content-Length': '45169', 'X-XSS-Protection': '0', 'X-Frame-Options': 'SAMEORIGIN', 'Server-Timing': 'gfet4t7; dur=116'}\n",
      "Saved to /content/drive/MyDrive/Kevin_Chen/Dataset/2021_Streetview_Images/36.86284270768861,-121.7710823709559_0.jpg\n",
      "36.82362390835884,-121.7792941445333\n",
      "{'Content-Type': 'image/jpeg', 'Date': 'Fri, 16 Feb 2024 03:34:45 GMT', 'Expires': 'Sat, 17 Feb 2024 03:34:45 GMT', 'Cache-Control': 'public, max-age=86400', 'Access-Control-Allow-Origin': '*', 'Server': 'scaffolding on HTTPServer2', 'Content-Length': '52517', 'X-XSS-Protection': '0', 'X-Frame-Options': 'SAMEORIGIN', 'Server-Timing': 'gfet4t7; dur=171'}\n",
      "Saved to /content/drive/MyDrive/Kevin_Chen/Dataset/2021_Streetview_Images/36.82362390835884,-121.7792941445333_0.jpg\n",
      "36.86452895708142,-121.7977953054794\n",
      "{'Content-Type': 'image/jpeg', 'Date': 'Fri, 16 Feb 2024 03:34:45 GMT', 'Expires': 'Sat, 17 Feb 2024 03:34:45 GMT', 'Cache-Control': 'public, max-age=86400', 'Access-Control-Allow-Origin': '*', 'Server': 'scaffolding on HTTPServer2', 'Content-Length': '50360', 'X-XSS-Protection': '0', 'X-Frame-Options': 'SAMEORIGIN', 'Server-Timing': 'gfet4t7; dur=130'}\n",
      "Saved to /content/drive/MyDrive/Kevin_Chen/Dataset/2021_Streetview_Images/36.86452895708142,-121.7977953054794_0.jpg\n",
      "36.86462798776831,-121.771032035982\n",
      "{'Content-Type': 'image/jpeg', 'Date': 'Fri, 16 Feb 2024 03:34:45 GMT', 'Expires': 'Sat, 17 Feb 2024 03:34:45 GMT', 'Cache-Control': 'public, max-age=86400', 'Access-Control-Allow-Origin': '*', 'Server': 'scaffolding on HTTPServer2', 'Content-Length': '39493', 'X-XSS-Protection': '0', 'X-Frame-Options': 'SAMEORIGIN', 'Server-Timing': 'gfet4t7; dur=130'}\n",
      "Saved to /content/drive/MyDrive/Kevin_Chen/Dataset/2021_Streetview_Images/36.86462798776831,-121.771032035982_0.jpg\n",
      "36.83189476272081,-121.7709848306232\n",
      "{'Content-Type': 'image/jpeg', 'Date': 'Fri, 16 Feb 2024 03:34:46 GMT', 'Expires': 'Sat, 17 Feb 2024 03:34:46 GMT', 'Cache-Control': 'public, max-age=86400', 'Access-Control-Allow-Origin': '*', 'Server': 'scaffolding on HTTPServer2', 'Content-Length': '53814', 'X-XSS-Protection': '0', 'X-Frame-Options': 'SAMEORIGIN', 'Server-Timing': 'gfet4t7; dur=181'}\n",
      "Saved to /content/drive/MyDrive/Kevin_Chen/Dataset/2021_Streetview_Images/36.83189476272081,-121.7709848306232_0.jpg\n",
      "36.82857814600655,-121.7724793095751\n",
      "{'Content-Type': 'image/jpeg', 'Date': 'Fri, 16 Feb 2024 03:34:46 GMT', 'Expires': 'Sat, 17 Feb 2024 03:34:46 GMT', 'Cache-Control': 'public, max-age=86400', 'Access-Control-Allow-Origin': '*', 'Server': 'scaffolding on HTTPServer2', 'Content-Length': '62383', 'X-XSS-Protection': '0', 'X-Frame-Options': 'SAMEORIGIN', 'Server-Timing': 'gfet4t7; dur=194'}\n",
      "Saved to /content/drive/MyDrive/Kevin_Chen/Dataset/2021_Streetview_Images/36.82857814600655,-121.7724793095751_0.jpg\n",
      "36.8270434655181,-121.7807786027097\n",
      "{'Content-Type': 'image/jpeg', 'Date': 'Fri, 16 Feb 2024 03:34:47 GMT', 'Expires': 'Sat, 17 Feb 2024 03:34:47 GMT', 'Cache-Control': 'public, max-age=86400', 'Access-Control-Allow-Origin': '*', 'Server': 'scaffolding on HTTPServer2', 'Content-Length': '52340', 'X-XSS-Protection': '0', 'X-Frame-Options': 'SAMEORIGIN', 'Server-Timing': 'gfet4t7; dur=196'}\n",
      "Saved to /content/drive/MyDrive/Kevin_Chen/Dataset/2021_Streetview_Images/36.8270434655181,-121.7807786027097_0.jpg\n",
      "36.8388036278601,-121.7709710080558\n",
      "{'Content-Type': 'image/jpeg', 'Date': 'Fri, 16 Feb 2024 03:34:47 GMT', 'Expires': 'Sat, 17 Feb 2024 03:34:47 GMT', 'Cache-Control': 'public, max-age=86400', 'Access-Control-Allow-Origin': '*', 'Server': 'scaffolding on HTTPServer2', 'Content-Length': '51101', 'X-XSS-Protection': '0', 'X-Frame-Options': 'SAMEORIGIN', 'Server-Timing': 'gfet4t7; dur=151'}\n",
      "Saved to /content/drive/MyDrive/Kevin_Chen/Dataset/2021_Streetview_Images/36.8388036278601,-121.7709710080558_0.jpg\n",
      "36.85595293827164,-121.7711153190527\n",
      "{'Content-Type': 'image/jpeg', 'Date': 'Fri, 16 Feb 2024 03:34:47 GMT', 'Expires': 'Sat, 17 Feb 2024 03:34:47 GMT', 'Cache-Control': 'public, max-age=86400', 'Access-Control-Allow-Origin': '*', 'Server': 'scaffolding on HTTPServer2', 'Content-Length': '49620', 'X-XSS-Protection': '0', 'X-Frame-Options': 'SAMEORIGIN', 'Server-Timing': 'gfet4t7; dur=180'}\n",
      "Saved to /content/drive/MyDrive/Kevin_Chen/Dataset/2021_Streetview_Images/36.85595293827164,-121.7711153190527_0.jpg\n",
      "36.84050960845509,-121.7710096938533\n",
      "{'Content-Type': 'image/jpeg', 'Date': 'Fri, 16 Feb 2024 03:34:48 GMT', 'Expires': 'Sat, 17 Feb 2024 03:34:48 GMT', 'Cache-Control': 'public, max-age=86400', 'Access-Control-Allow-Origin': '*', 'Server': 'scaffolding on HTTPServer2', 'Content-Length': '50585', 'X-XSS-Protection': '0', 'X-Frame-Options': 'SAMEORIGIN', 'Server-Timing': 'gfet4t7; dur=183'}\n",
      "Saved to /content/drive/MyDrive/Kevin_Chen/Dataset/2021_Streetview_Images/36.84050960845509,-121.7710096938533_0.jpg\n",
      "36.8382508548854,-121.7738725795872\n",
      "{'Content-Type': 'image/jpeg', 'Date': 'Fri, 16 Feb 2024 03:34:48 GMT', 'Expires': 'Sat, 17 Feb 2024 03:34:48 GMT', 'Cache-Control': 'public, max-age=86400', 'Access-Control-Allow-Origin': '*', 'Server': 'scaffolding on HTTPServer2', 'Content-Length': '98676', 'X-XSS-Protection': '0', 'X-Frame-Options': 'SAMEORIGIN', 'Server-Timing': 'gfet4t7; dur=213'}\n",
      "Saved to /content/drive/MyDrive/Kevin_Chen/Dataset/2021_Streetview_Images/36.8382508548854,-121.7738725795872_0.jpg\n",
      "36.82858615771973,-121.7909722125823\n",
      "{'Content-Type': 'image/jpeg', 'Date': 'Fri, 16 Feb 2024 03:34:49 GMT', 'Expires': 'Sat, 17 Feb 2024 03:34:49 GMT', 'Cache-Control': 'public, max-age=86400', 'Access-Control-Allow-Origin': '*', 'Server': 'scaffolding on HTTPServer2', 'Content-Length': '67751', 'X-XSS-Protection': '0', 'X-Frame-Options': 'SAMEORIGIN', 'Server-Timing': 'gfet4t7; dur=159'}\n",
      "Saved to /content/drive/MyDrive/Kevin_Chen/Dataset/2021_Streetview_Images/36.82858615771973,-121.7909722125823_0.jpg\n",
      "36.83713997628528,-121.7996561950642\n",
      "{'Content-Type': 'image/jpeg', 'Date': 'Fri, 16 Feb 2024 03:34:49 GMT', 'Expires': 'Sat, 17 Feb 2024 03:34:49 GMT', 'Cache-Control': 'public, max-age=86400', 'Access-Control-Allow-Origin': '*', 'Server': 'scaffolding on HTTPServer2', 'Content-Length': '51906', 'X-XSS-Protection': '0', 'X-Frame-Options': 'SAMEORIGIN', 'Server-Timing': 'gfet4t7; dur=115'}\n",
      "Saved to /content/drive/MyDrive/Kevin_Chen/Dataset/2021_Streetview_Images/36.83713997628528,-121.7996561950642_0.jpg\n",
      "36.83705369266085,-121.795894317034\n",
      "{'Content-Type': 'image/jpeg', 'Date': 'Fri, 16 Feb 2024 03:34:49 GMT', 'Expires': 'Sat, 17 Feb 2024 03:34:49 GMT', 'Cache-Control': 'public, max-age=86400', 'Access-Control-Allow-Origin': '*', 'Server': 'scaffolding on HTTPServer2', 'Content-Length': '42190', 'X-XSS-Protection': '0', 'X-Frame-Options': 'SAMEORIGIN', 'Server-Timing': 'gfet4t7; dur=114'}\n",
      "Saved to /content/drive/MyDrive/Kevin_Chen/Dataset/2021_Streetview_Images/36.83705369266085,-121.795894317034_0.jpg\n",
      "36.8270351770345,-121.7825007824372\n",
      "{'Content-Type': 'image/jpeg', 'Date': 'Fri, 16 Feb 2024 03:34:50 GMT', 'Expires': 'Sat, 17 Feb 2024 03:34:50 GMT', 'Cache-Control': 'public, max-age=86400', 'Access-Control-Allow-Origin': '*', 'Server': 'scaffolding on HTTPServer2', 'Content-Length': '44590', 'X-XSS-Protection': '0', 'X-Frame-Options': 'SAMEORIGIN', 'Server-Timing': 'gfet4t7; dur=133'}\n",
      "Saved to /content/drive/MyDrive/Kevin_Chen/Dataset/2021_Streetview_Images/36.8270351770345,-121.7825007824372_0.jpg\n",
      "36.82700218130963,-121.7743311456588\n",
      "{'Content-Type': 'image/jpeg', 'Date': 'Fri, 16 Feb 2024 03:34:50 GMT', 'Expires': 'Sat, 17 Feb 2024 03:34:50 GMT', 'Cache-Control': 'public, max-age=86400', 'Access-Control-Allow-Origin': '*', 'Server': 'scaffolding on HTTPServer2', 'Content-Length': '61704', 'X-XSS-Protection': '0', 'X-Frame-Options': 'SAMEORIGIN', 'Server-Timing': 'gfet4t7; dur=162'}\n",
      "Saved to /content/drive/MyDrive/Kevin_Chen/Dataset/2021_Streetview_Images/36.82700218130963,-121.7743311456588_0.jpg\n",
      "36.85782154436097,-121.7711157537241\n",
      "{'Content-Type': 'image/jpeg', 'Date': 'Fri, 16 Feb 2024 03:34:50 GMT', 'Expires': 'Sat, 17 Feb 2024 03:34:50 GMT', 'Cache-Control': 'public, max-age=86400', 'Access-Control-Allow-Origin': '*', 'Server': 'scaffolding on HTTPServer2', 'Content-Length': '47771', 'X-XSS-Protection': '0', 'X-Frame-Options': 'SAMEORIGIN', 'Server-Timing': 'gfet4t7; dur=209'}\n",
      "Saved to /content/drive/MyDrive/Kevin_Chen/Dataset/2021_Streetview_Images/36.85782154436097,-121.7711157537241_0.jpg\n",
      "36.83824298924637,-121.7759280710178\n",
      "{'Content-Type': 'image/jpeg', 'Date': 'Fri, 16 Feb 2024 03:34:51 GMT', 'Expires': 'Sat, 17 Feb 2024 03:34:51 GMT', 'Cache-Control': 'public, max-age=86400', 'Access-Control-Allow-Origin': '*', 'Server': 'scaffolding on HTTPServer2', 'Content-Length': '74202', 'X-XSS-Protection': '0', 'X-Frame-Options': 'SAMEORIGIN', 'Server-Timing': 'gfet4t7; dur=161'}\n",
      "Saved to /content/drive/MyDrive/Kevin_Chen/Dataset/2021_Streetview_Images/36.83824298924637,-121.7759280710178_0.jpg\n",
      "36.83536626448329,-121.7709819617886\n",
      "{'Content-Type': 'image/jpeg', 'Date': 'Fri, 16 Feb 2024 03:34:51 GMT', 'Expires': 'Sat, 17 Feb 2024 03:34:51 GMT', 'Cache-Control': 'public, max-age=86400', 'Access-Control-Allow-Origin': '*', 'Server': 'scaffolding on HTTPServer2', 'Content-Length': '65898', 'X-XSS-Protection': '0', 'X-Frame-Options': 'SAMEORIGIN', 'Server-Timing': 'gfet4t7; dur=171'}\n",
      "Saved to /content/drive/MyDrive/Kevin_Chen/Dataset/2021_Streetview_Images/36.83536626448329,-121.7709819617886_0.jpg\n",
      "36.85767256475253,-121.7711157537241\n",
      "{'Content-Type': 'image/jpeg', 'Date': 'Fri, 16 Feb 2024 03:34:51 GMT', 'Expires': 'Sat, 17 Feb 2024 03:34:51 GMT', 'Cache-Control': 'public, max-age=86400', 'Access-Control-Allow-Origin': '*', 'Server': 'scaffolding on HTTPServer2', 'Content-Length': '47802', 'X-XSS-Protection': '0', 'X-Frame-Options': 'SAMEORIGIN', 'Server-Timing': 'gfet4t7; dur=181'}\n",
      "Saved to /content/drive/MyDrive/Kevin_Chen/Dataset/2021_Streetview_Images/36.85767256475253,-121.7711157537241_0.jpg\n",
      "36.85226655266308,-121.7844048675585\n",
      "{'Content-Type': 'image/jpeg', 'Date': 'Fri, 16 Feb 2024 03:34:52 GMT', 'Expires': 'Sat, 17 Feb 2024 03:34:52 GMT', 'Cache-Control': 'public, max-age=86400', 'Access-Control-Allow-Origin': '*', 'Server': 'scaffolding on HTTPServer2', 'Content-Length': '63525', 'X-XSS-Protection': '0', 'X-Frame-Options': 'SAMEORIGIN', 'Server-Timing': 'gfet4t7; dur=168'}\n",
      "Saved to /content/drive/MyDrive/Kevin_Chen/Dataset/2021_Streetview_Images/36.85226655266308,-121.7844048675585_0.jpg\n",
      "36.83711353668472,-121.7709810055103\n",
      "{'Content-Type': 'image/jpeg', 'Date': 'Fri, 16 Feb 2024 03:34:52 GMT', 'Expires': 'Sat, 17 Feb 2024 03:34:52 GMT', 'Cache-Control': 'public, max-age=86400', 'Access-Control-Allow-Origin': '*', 'Server': 'scaffolding on HTTPServer2', 'Content-Length': '58112', 'X-XSS-Protection': '0', 'X-Frame-Options': 'SAMEORIGIN', 'Server-Timing': 'gfet4t7; dur=173'}\n",
      "Saved to /content/drive/MyDrive/Kevin_Chen/Dataset/2021_Streetview_Images/36.83711353668472,-121.7709810055103_0.jpg\n",
      "36.82313883599267,-121.7806172665232\n",
      "{'Content-Type': 'image/jpeg', 'Date': 'Fri, 16 Feb 2024 03:34:53 GMT', 'Expires': 'Sat, 17 Feb 2024 03:34:53 GMT', 'Cache-Control': 'public, max-age=86400', 'Access-Control-Allow-Origin': '*', 'Server': 'scaffolding on HTTPServer2', 'Content-Length': '92841', 'X-XSS-Protection': '0', 'X-Frame-Options': 'SAMEORIGIN', 'Server-Timing': 'gfet4t7; dur=186'}\n",
      "Saved to /content/drive/MyDrive/Kevin_Chen/Dataset/2021_Streetview_Images/36.82313883599267,-121.7806172665232_0.jpg\n",
      "36.82473686855415,-121.77713353026\n",
      "{'Content-Type': 'image/jpeg', 'Date': 'Fri, 16 Feb 2024 03:34:53 GMT', 'Expires': 'Sat, 17 Feb 2024 03:34:53 GMT', 'Cache-Control': 'public, max-age=86400', 'Access-Control-Allow-Origin': '*', 'Server': 'scaffolding on HTTPServer2', 'Content-Length': '49259', 'X-XSS-Protection': '0', 'X-Frame-Options': 'SAMEORIGIN', 'Server-Timing': 'gfet4t7; dur=162'}\n",
      "Saved to /content/drive/MyDrive/Kevin_Chen/Dataset/2021_Streetview_Images/36.82473686855415,-121.77713353026_0.jpg\n",
      "36.828576376224,-121.7927139653133\n",
      "{'Content-Type': 'image/jpeg', 'Date': 'Fri, 16 Feb 2024 03:34:53 GMT', 'Expires': 'Sat, 17 Feb 2024 03:34:53 GMT', 'Cache-Control': 'public, max-age=86400', 'Access-Control-Allow-Origin': '*', 'Server': 'scaffolding on HTTPServer2', 'Content-Length': '50090', 'X-XSS-Protection': '0', 'X-Frame-Options': 'SAMEORIGIN', 'Server-Timing': 'gfet4t7; dur=213'}\n",
      "Saved to /content/drive/MyDrive/Kevin_Chen/Dataset/2021_Streetview_Images/36.828576376224,-121.7927139653133_0.jpg\n",
      "36.8529965387099,-121.7818092885692\n",
      "{'Content-Type': 'image/jpeg', 'Date': 'Fri, 16 Feb 2024 03:34:54 GMT', 'Expires': 'Sat, 17 Feb 2024 03:34:54 GMT', 'Cache-Control': 'public, max-age=86400', 'Access-Control-Allow-Origin': '*', 'Server': 'scaffolding on HTTPServer2', 'Content-Length': '70411', 'X-XSS-Protection': '0', 'X-Frame-Options': 'SAMEORIGIN', 'Server-Timing': 'gfet4t7; dur=179'}\n",
      "Saved to /content/drive/MyDrive/Kevin_Chen/Dataset/2021_Streetview_Images/36.8529965387099,-121.7818092885692_0.jpg\n",
      "36.84914808386089,-121.771150092759\n",
      "{'Content-Type': 'image/jpeg', 'Date': 'Fri, 16 Feb 2024 03:34:54 GMT', 'Expires': 'Sat, 17 Feb 2024 03:34:54 GMT', 'Cache-Control': 'public, max-age=86400', 'Access-Control-Allow-Origin': '*', 'Server': 'scaffolding on HTTPServer2', 'Content-Length': '52440', 'X-XSS-Protection': '0', 'X-Frame-Options': 'SAMEORIGIN', 'Server-Timing': 'gfet4t7; dur=179'}\n",
      "Saved to /content/drive/MyDrive/Kevin_Chen/Dataset/2021_Streetview_Images/36.84914808386089,-121.771150092759_0.jpg\n",
      "36.85570536856144,-121.7945435630037\n",
      "{'Content-Type': 'image/jpeg', 'Date': 'Fri, 16 Feb 2024 03:34:54 GMT', 'Expires': 'Sat, 17 Feb 2024 03:34:54 GMT', 'Cache-Control': 'public, max-age=86400', 'Access-Control-Allow-Origin': '*', 'Server': 'scaffolding on HTTPServer2', 'Content-Length': '83631', 'X-XSS-Protection': '0', 'X-Frame-Options': 'SAMEORIGIN', 'Server-Timing': 'gfet4t7; dur=143'}\n",
      "Saved to /content/drive/MyDrive/Kevin_Chen/Dataset/2021_Streetview_Images/36.85570536856144,-121.7945435630037_0.jpg\n",
      "36.85949269027951,-121.7948019640975\n",
      "{'Content-Type': 'image/jpeg', 'Date': 'Fri, 16 Feb 2024 03:34:55 GMT', 'Expires': 'Sat, 17 Feb 2024 03:34:55 GMT', 'Cache-Control': 'public, max-age=86400', 'Access-Control-Allow-Origin': '*', 'Server': 'scaffolding on HTTPServer2', 'Content-Length': '127236', 'X-XSS-Protection': '0', 'X-Frame-Options': 'SAMEORIGIN', 'Server-Timing': 'gfet4t7; dur=176'}\n",
      "Saved to /content/drive/MyDrive/Kevin_Chen/Dataset/2021_Streetview_Images/36.85949269027951,-121.7948019640975_0.jpg\n",
      "36.82705760275671,-121.7890435541151\n",
      "{'Content-Type': 'image/jpeg', 'Date': 'Fri, 16 Feb 2024 03:34:55 GMT', 'Expires': 'Sat, 17 Feb 2024 03:34:55 GMT', 'Cache-Control': 'public, max-age=86400', 'Access-Control-Allow-Origin': '*', 'Server': 'scaffolding on HTTPServer2', 'Content-Length': '88965', 'X-XSS-Protection': '0', 'X-Frame-Options': 'SAMEORIGIN', 'Server-Timing': 'gfet4t7; dur=182'}\n",
      "Saved to /content/drive/MyDrive/Kevin_Chen/Dataset/2021_Streetview_Images/36.82705760275671,-121.7890435541151_0.jpg\n",
      "36.85944684153512,-121.7711160145269\n",
      "{'Content-Type': 'image/jpeg', 'Date': 'Fri, 16 Feb 2024 03:34:56 GMT', 'Expires': 'Sat, 17 Feb 2024 03:34:56 GMT', 'Cache-Control': 'public, max-age=86400', 'Access-Control-Allow-Origin': '*', 'Server': 'scaffolding on HTTPServer2', 'Content-Length': '55284', 'X-XSS-Protection': '0', 'X-Frame-Options': 'SAMEORIGIN', 'Server-Timing': 'gfet4t7; dur=167'}\n",
      "Saved to /content/drive/MyDrive/Kevin_Chen/Dataset/2021_Streetview_Images/36.85944684153512,-121.7711160145269_0.jpg\n",
      "36.85426293627482,-121.7718265261301\n",
      "{'Content-Type': 'image/jpeg', 'Date': 'Fri, 16 Feb 2024 03:34:56 GMT', 'Expires': 'Sat, 17 Feb 2024 03:34:56 GMT', 'Cache-Control': 'public, max-age=86400', 'Access-Control-Allow-Origin': '*', 'Server': 'scaffolding on HTTPServer2', 'Content-Length': '45494', 'X-XSS-Protection': '0', 'X-Frame-Options': 'SAMEORIGIN', 'Server-Timing': 'gfet4t7; dur=184'}\n",
      "Saved to /content/drive/MyDrive/Kevin_Chen/Dataset/2021_Streetview_Images/36.85426293627482,-121.7718265261301_0.jpg\n",
      "36.82702681664506,-121.7842402334964\n",
      "{'Content-Type': 'image/jpeg', 'Date': 'Fri, 16 Feb 2024 03:34:56 GMT', 'Expires': 'Sat, 17 Feb 2024 03:34:56 GMT', 'Cache-Control': 'public, max-age=86400', 'Access-Control-Allow-Origin': '*', 'Server': 'scaffolding on HTTPServer2', 'Content-Length': '59075', 'X-XSS-Protection': '0', 'X-Frame-Options': 'SAMEORIGIN', 'Server-Timing': 'gfet4t7; dur=182'}\n",
      "Saved to /content/drive/MyDrive/Kevin_Chen/Dataset/2021_Streetview_Images/36.82702681664506,-121.7842402334964_0.jpg\n",
      "36.83821085454141,-121.7843100335007\n",
      "{'Content-Type': 'image/jpeg', 'Date': 'Fri, 16 Feb 2024 03:34:57 GMT', 'Expires': 'Sat, 17 Feb 2024 03:34:57 GMT', 'Cache-Control': 'public, max-age=86400', 'Access-Control-Allow-Origin': '*', 'Server': 'scaffolding on HTTPServer2', 'Content-Length': '67638', 'X-XSS-Protection': '0', 'X-Frame-Options': 'SAMEORIGIN', 'Server-Timing': 'gfet4t7; dur=163'}\n",
      "Saved to /content/drive/MyDrive/Kevin_Chen/Dataset/2021_Streetview_Images/36.83821085454141,-121.7843100335007_0.jpg\n",
      "36.82701029600319,-121.7876613385169\n",
      "{'Content-Type': 'image/jpeg', 'Date': 'Fri, 16 Feb 2024 03:34:57 GMT', 'Expires': 'Sat, 17 Feb 2024 03:34:57 GMT', 'Cache-Control': 'public, max-age=86400', 'Access-Control-Allow-Origin': '*', 'Server': 'scaffolding on HTTPServer2', 'Content-Length': '55701', 'X-XSS-Protection': '0', 'X-Frame-Options': 'SAMEORIGIN', 'Server-Timing': 'gfet4t7; dur=108'}\n",
      "Saved to /content/drive/MyDrive/Kevin_Chen/Dataset/2021_Streetview_Images/36.82701029600319,-121.7876613385169_0.jpg\n",
      "36.85077796844267,-121.7711382697001\n",
      "{'Content-Type': 'image/jpeg', 'Date': 'Fri, 16 Feb 2024 03:34:58 GMT', 'Expires': 'Sat, 17 Feb 2024 03:34:58 GMT', 'Cache-Control': 'public, max-age=86400', 'Access-Control-Allow-Origin': '*', 'Server': 'scaffolding on HTTPServer2', 'Content-Length': '52285', 'X-XSS-Protection': '0', 'X-Frame-Options': 'SAMEORIGIN', 'Server-Timing': 'gfet4t7; dur=173'}\n",
      "Saved to /content/drive/MyDrive/Kevin_Chen/Dataset/2021_Streetview_Images/36.85077796844267,-121.7711382697001_0.jpg\n",
      "36.83536780268925,-121.7944245748787\n",
      "{'Content-Type': 'image/jpeg', 'Date': 'Fri, 16 Feb 2024 03:34:59 GMT', 'Expires': 'Sat, 17 Feb 2024 03:34:59 GMT', 'Cache-Control': 'public, max-age=86400', 'Access-Control-Allow-Origin': '*', 'Server': 'scaffolding on HTTPServer2', 'Content-Length': '53836', 'X-XSS-Protection': '0', 'X-Frame-Options': 'SAMEORIGIN', 'Server-Timing': 'gfet4t7; dur=163'}\n",
      "Saved to /content/drive/MyDrive/Kevin_Chen/Dataset/2021_Streetview_Images/36.83536780268925,-121.7944245748787_0.jpg\n",
      "36.84222651732423,-121.7710485535062\n",
      "{'Content-Type': 'image/jpeg', 'Date': 'Fri, 16 Feb 2024 03:34:59 GMT', 'Expires': 'Sat, 17 Feb 2024 03:34:59 GMT', 'Cache-Control': 'public, max-age=86400', 'Access-Control-Allow-Origin': '*', 'Server': 'scaffolding on HTTPServer2', 'Content-Length': '44828', 'X-XSS-Protection': '0', 'X-Frame-Options': 'SAMEORIGIN', 'Server-Timing': 'gfet4t7; dur=162'}\n",
      "Saved to /content/drive/MyDrive/Kevin_Chen/Dataset/2021_Streetview_Images/36.84222651732423,-121.7710485535062_0.jpg\n",
      "36.84395097707309,-121.7710929769406\n",
      "{'Content-Type': 'image/jpeg', 'Date': 'Fri, 16 Feb 2024 03:34:59 GMT', 'Expires': 'Sat, 17 Feb 2024 03:34:59 GMT', 'Cache-Control': 'public, max-age=86400', 'Access-Control-Allow-Origin': '*', 'Server': 'scaffolding on HTTPServer2', 'Content-Length': '47407', 'X-XSS-Protection': '0', 'X-Frame-Options': 'SAMEORIGIN', 'Server-Timing': 'gfet4t7; dur=143'}\n",
      "Saved to /content/drive/MyDrive/Kevin_Chen/Dataset/2021_Streetview_Images/36.84395097707309,-121.7710929769406_0.jpg\n",
      "36.85273459686036,-121.7858088541949\n",
      "{'Content-Type': 'image/jpeg', 'Date': 'Fri, 16 Feb 2024 03:35:00 GMT', 'Expires': 'Sat, 17 Feb 2024 03:35:00 GMT', 'Cache-Control': 'public, max-age=86400', 'Access-Control-Allow-Origin': '*', 'Server': 'scaffolding on HTTPServer2', 'Content-Length': '74851', 'X-XSS-Protection': '0', 'X-Frame-Options': 'SAMEORIGIN', 'Server-Timing': 'gfet4t7; dur=144'}\n",
      "Saved to /content/drive/MyDrive/Kevin_Chen/Dataset/2021_Streetview_Images/36.85273459686036,-121.7858088541949_0.jpg\n",
      "36.8336475980101,-121.7709848306232\n",
      "{'Content-Type': 'image/jpeg', 'Date': 'Fri, 16 Feb 2024 03:35:00 GMT', 'Expires': 'Sat, 17 Feb 2024 03:35:00 GMT', 'Cache-Control': 'public, max-age=86400', 'Access-Control-Allow-Origin': '*', 'Server': 'scaffolding on HTTPServer2', 'Content-Length': '63435', 'X-XSS-Protection': '0', 'X-Frame-Options': 'SAMEORIGIN', 'Server-Timing': 'gfet4t7; dur=218'}\n",
      "Saved to /content/drive/MyDrive/Kevin_Chen/Dataset/2021_Streetview_Images/36.8336475980101,-121.7709848306232_0.jpg\n",
      "36.84742661415122,-121.771148006337\n",
      "{'Content-Type': 'image/jpeg', 'Date': 'Fri, 16 Feb 2024 03:35:00 GMT', 'Expires': 'Sat, 17 Feb 2024 03:35:00 GMT', 'Cache-Control': 'public, max-age=86400', 'Access-Control-Allow-Origin': '*', 'Server': 'scaffolding on HTTPServer2', 'Content-Length': '51489', 'X-XSS-Protection': '0', 'X-Frame-Options': 'SAMEORIGIN', 'Server-Timing': 'gfet4t7; dur=150'}\n",
      "Saved to /content/drive/MyDrive/Kevin_Chen/Dataset/2021_Streetview_Images/36.84742661415122,-121.771148006337_0.jpg\n",
      "36.8270186690759,-121.7859131615614\n",
      "{'Content-Type': 'image/jpeg', 'Date': 'Fri, 16 Feb 2024 03:35:01 GMT', 'Expires': 'Sat, 17 Feb 2024 03:35:01 GMT', 'Cache-Control': 'public, max-age=86400', 'Access-Control-Allow-Origin': '*', 'Server': 'scaffolding on HTTPServer2', 'Content-Length': '63085', 'X-XSS-Protection': '0', 'X-Frame-Options': 'SAMEORIGIN', 'Server-Timing': 'gfet4t7; dur=178'}\n",
      "Saved to /content/drive/MyDrive/Kevin_Chen/Dataset/2021_Streetview_Images/36.8270186690759,-121.7859131615614_0.jpg\n",
      "36.85268868961016,-121.7825402465716\n",
      "{'Content-Type': 'image/jpeg', 'Date': 'Fri, 16 Feb 2024 03:35:01 GMT', 'Expires': 'Sat, 17 Feb 2024 03:35:01 GMT', 'Cache-Control': 'public, max-age=86400', 'Access-Control-Allow-Origin': '*', 'Server': 'scaffolding on HTTPServer2', 'Content-Length': '55664', 'X-XSS-Protection': '0', 'X-Frame-Options': 'SAMEORIGIN', 'Server-Timing': 'gfet4t7; dur=148'}\n",
      "Saved to /content/drive/MyDrive/Kevin_Chen/Dataset/2021_Streetview_Images/36.85268868961016,-121.7825402465716_0.jpg\n",
      "36.86120163067525,-121.7711003663556\n",
      "{'Content-Type': 'image/jpeg', 'Date': 'Fri, 16 Feb 2024 03:35:01 GMT', 'Expires': 'Sat, 17 Feb 2024 03:35:01 GMT', 'Cache-Control': 'public, max-age=86400', 'Access-Control-Allow-Origin': '*', 'Server': 'scaffolding on HTTPServer2', 'Content-Length': '44943', 'X-XSS-Protection': '0', 'X-Frame-Options': 'SAMEORIGIN', 'Server-Timing': 'gfet4t7; dur=130'}\n",
      "Saved to /content/drive/MyDrive/Kevin_Chen/Dataset/2021_Streetview_Images/36.86120163067525,-121.7711003663556_0.jpg\n",
      "36.85618637793925,-121.7959807974149\n",
      "{'Content-Type': 'image/jpeg', 'Date': 'Fri, 16 Feb 2024 03:35:02 GMT', 'Expires': 'Sat, 17 Feb 2024 03:35:02 GMT', 'Cache-Control': 'public, max-age=86400', 'Access-Control-Allow-Origin': '*', 'Server': 'scaffolding on HTTPServer2', 'Content-Length': '79732', 'X-XSS-Protection': '0', 'X-Frame-Options': 'SAMEORIGIN', 'Server-Timing': 'gfet4t7; dur=154'}\n",
      "Saved to /content/drive/MyDrive/Kevin_Chen/Dataset/2021_Streetview_Images/36.85618637793925,-121.7959807974149_0.jpg\n",
      "36.85398264292542,-121.7894576417843\n",
      "{'Content-Type': 'image/jpeg', 'Date': 'Fri, 16 Feb 2024 03:35:02 GMT', 'Expires': 'Sat, 17 Feb 2024 03:35:02 GMT', 'Cache-Control': 'public, max-age=86400', 'Access-Control-Allow-Origin': '*', 'Server': 'scaffolding on HTTPServer2', 'Content-Length': '59155', 'X-XSS-Protection': '0', 'X-Frame-Options': 'SAMEORIGIN', 'Server-Timing': 'gfet4t7; dur=134'}\n",
      "Saved to /content/drive/MyDrive/Kevin_Chen/Dataset/2021_Streetview_Images/36.85398264292542,-121.7894576417843_0.jpg\n",
      "36.82986534116993,-121.7714848760635\n",
      "{'Content-Type': 'image/jpeg', 'Date': 'Fri, 16 Feb 2024 03:35:03 GMT', 'Expires': 'Sat, 17 Feb 2024 03:35:03 GMT', 'Cache-Control': 'public, max-age=86400', 'Access-Control-Allow-Origin': '*', 'Server': 'scaffolding on HTTPServer2', 'Content-Length': '57730', 'X-XSS-Protection': '0', 'X-Frame-Options': 'SAMEORIGIN', 'Server-Timing': 'gfet4t7; dur=195'}\n",
      "Saved to /content/drive/MyDrive/Kevin_Chen/Dataset/2021_Streetview_Images/36.82986534116993,-121.7714848760635_0.jpg\n",
      "36.85446970477513,-121.7909204958697\n",
      "{'Content-Type': 'image/jpeg', 'Date': 'Fri, 16 Feb 2024 03:35:03 GMT', 'Expires': 'Sat, 17 Feb 2024 03:35:03 GMT', 'Cache-Control': 'public, max-age=86400', 'Access-Control-Allow-Origin': '*', 'Server': 'scaffolding on HTTPServer2', 'Content-Length': '67533', 'X-XSS-Protection': '0', 'X-Frame-Options': 'SAMEORIGIN', 'Server-Timing': 'gfet4t7; dur=192'}\n",
      "Saved to /content/drive/MyDrive/Kevin_Chen/Dataset/2021_Streetview_Images/36.85446970477513,-121.7909204958697_0.jpg\n",
      "36.8354789657618,-121.7959125691803\n",
      "{'Content-Type': 'image/jpeg', 'Date': 'Fri, 16 Feb 2024 03:35:04 GMT', 'Expires': 'Sat, 17 Feb 2024 03:35:04 GMT', 'Cache-Control': 'public, max-age=86400', 'Access-Control-Allow-Origin': '*', 'Server': 'scaffolding on HTTPServer2', 'Content-Length': '41537', 'X-XSS-Protection': '0', 'X-Frame-Options': 'SAMEORIGIN', 'Server-Timing': 'gfet4t7; dur=192'}\n",
      "Saved to /content/drive/MyDrive/Kevin_Chen/Dataset/2021_Streetview_Images/36.8354789657618,-121.7959125691803_0.jpg\n"
     ]
    }
   ],
   "source": [
    "fail_count = 0\n",
    "bearings = []\n",
    "for loc in succeeded:\n",
    "  print(str(loc[0]) + \",\" + str(loc[1]))\n",
    "  res = load_streetview(str(loc[0]) + \",\" + str(loc[1]), 0)\n",
    "  if (res == False):\n",
    "    fail_count += 1\n",
    "    print(fail_count)"
   ]
  },
  {
   "cell_type": "code",
   "execution_count": null,
   "metadata": {
    "id": "LY6dXqkcHPjt"
   },
   "outputs": [],
   "source": [
    "# location = \"\"\n",
    "# # using matpltolib to display the image\n",
    "# import matplotlib.pyplot as plt\n",
    "# import matplotlib.image as mpimg\n",
    "# plt.figure(figsize=(10, 10))\n",
    "# img=mpimg.imread('resp_text.jpg')\n",
    "# imgplot = plt.imshow(img)\n",
    "# plt.show()"
   ]
  },
  {
   "cell_type": "code",
   "execution_count": null,
   "metadata": {
    "colab": {
     "base_uri": "https://localhost:8080/"
    },
    "executionInfo": {
     "elapsed": 1268,
     "status": "ok",
     "timestamp": 1707717135333,
     "user": {
      "displayName": "Kevin Chen",
      "userId": "00558369244382387043"
     },
     "user_tz": 360
    },
    "id": "q7LjKxW23dYs",
    "outputId": "5168b898-d20a-427d-ab33-869b57d7bf88"
   },
   "outputs": [
    {
     "name": "stdout",
     "output_type": "stream",
     "text": [
      "/content/drive/MyDrive/Kevin_Chen/Dataset/2022_Streetview_Images/36.85721515402489,-121.7714255870653.jpg\n",
      "/content/drive/MyDrive/Kevin_Chen/Dataset/2022_Streetview_Images/36.86826081930037,-121.7699217050251.jpg\n",
      "/content/drive/MyDrive/Kevin_Chen/Dataset/2022_Streetview_Images/36.87662614151964,-121.7706742136489.jpg\n",
      "/content/drive/MyDrive/Kevin_Chen/Dataset/2022_Streetview_Images/36.87530030857334,-121.7773829309991.jpg\n",
      "/content/drive/MyDrive/Kevin_Chen/Dataset/2022_Streetview_Images/36.86728066435343,-121.7705137322208.jpg\n",
      "/content/drive/MyDrive/Kevin_Chen/Dataset/2022_Streetview_Images/36.87929144865187,-121.7662322878274.jpg\n",
      "/content/drive/MyDrive/Kevin_Chen/Dataset/2022_Streetview_Images/36.84076971474027,-121.7710156053897.jpg\n",
      "/content/drive/MyDrive/Kevin_Chen/Dataset/2022_Streetview_Images/36.87038313440645,-121.7673708230711.jpg\n",
      "/content/drive/MyDrive/Kevin_Chen/Dataset/2022_Streetview_Images/36.87276948104804,-121.7699975994355.jpg\n",
      "/content/drive/MyDrive/Kevin_Chen/Dataset/2022_Streetview_Images/36.87380357595796,-121.7881015945569.jpg\n",
      "/content/drive/MyDrive/Kevin_Chen/Dataset/2022_Streetview_Images/36.86462798776831,-121.771032035982.jpg\n",
      "/content/drive/MyDrive/Kevin_Chen/Dataset/2022_Streetview_Images/36.87176078094009,-121.7710401208757.jpg\n",
      "/content/drive/MyDrive/Kevin_Chen/Dataset/2022_Streetview_Images/36.88376903353796,-121.7952207238318.jpg\n",
      "/content/drive/MyDrive/Kevin_Chen/Dataset/2022_Streetview_Images/36.87905984809716,-121.8028371309666.jpg\n",
      "/content/drive/MyDrive/Kevin_Chen/Dataset/2022_Streetview_Images/36.85382048973435,-121.7714153288483.jpg\n",
      "/content/drive/MyDrive/Kevin_Chen/Dataset/2022_Streetview_Images/36.85541130828022,-121.7717263784325.jpg\n",
      "/content/drive/MyDrive/Kevin_Chen/Dataset/2022_Streetview_Images/36.85381878284741,-121.7740846068635.jpg\n",
      "/content/drive/MyDrive/Kevin_Chen/Dataset/2022_Streetview_Images/36.86263691858655,-121.7987844637234.jpg\n",
      "/content/drive/MyDrive/Kevin_Chen/Dataset/2022_Streetview_Images/36.88120562221745,-121.7938394539246.jpg\n",
      "/content/drive/MyDrive/Kevin_Chen/Dataset/2022_Streetview_Images/36.86744558871393,-121.7934067822968.jpg\n",
      "/content/drive/MyDrive/Kevin_Chen/Dataset/2022_Streetview_Images/36.87010130323003,-121.7679123535205.jpg\n",
      "/content/drive/MyDrive/Kevin_Chen/Dataset/2022_Streetview_Images/36.8831822563275,-121.797268086895.jpg\n",
      "/content/drive/MyDrive/Kevin_Chen/Dataset/2022_Streetview_Images/36.88493106035024,-121.800173928986.jpg\n",
      "/content/drive/MyDrive/Kevin_Chen/Dataset/2022_Streetview_Images/36.88476770956014,-121.7951322438031.jpg\n",
      "/content/drive/MyDrive/Kevin_Chen/Dataset/2022_Streetview_Images/36.85650691140812,-121.7969035693242.jpg\n",
      "/content/drive/MyDrive/Kevin_Chen/Dataset/2022_Streetview_Images/36.87640814880245,-121.7713995068508.jpg\n",
      "/content/drive/MyDrive/Kevin_Chen/Dataset/2022_Streetview_Images/36.85380247368887,-121.7767365220792.jpg\n",
      "/content/drive/MyDrive/Kevin_Chen/Dataset/2022_Streetview_Images/36.87349673585641,-121.7824049036563.jpg\n",
      "/content/drive/MyDrive/Kevin_Chen/Dataset/2022_Streetview_Images/36.85540264897745,-121.7711152321184.jpg\n",
      "/content/drive/MyDrive/Kevin_Chen/Dataset/2022_Streetview_Images/36.87186293854151,-121.7626338630014.jpg\n",
      "/content/drive/MyDrive/Kevin_Chen/Dataset/2022_Streetview_Images/36.87068432008514,-121.7667890378781.jpg\n",
      "/content/drive/MyDrive/Kevin_Chen/Dataset/2022_Streetview_Images/36.85585969331477,-121.7949911797222.jpg\n",
      "/content/drive/MyDrive/Kevin_Chen/Dataset/2022_Streetview_Images/36.88279264725826,-121.7946867136332.jpg\n",
      "/content/drive/MyDrive/Kevin_Chen/Dataset/2022_Streetview_Images/36.87935208920668,-121.8024412571411.jpg\n",
      "/content/drive/MyDrive/Kevin_Chen/Dataset/2022_Streetview_Images/36.85256119533009,-121.7828451804257.jpg\n",
      "/content/drive/MyDrive/Kevin_Chen/Dataset/2022_Streetview_Images/36.83980168852229,-121.8048520905283.jpg\n",
      "/content/drive/MyDrive/Kevin_Chen/Dataset/2022_Streetview_Images/36.87908298245289,-121.767031072014.jpg\n",
      "/content/drive/MyDrive/Kevin_Chen/Dataset/2022_Streetview_Images/36.88104615270194,-121.7642060906858.jpg\n",
      "/content/drive/MyDrive/Kevin_Chen/Dataset/2022_Streetview_Images/36.87556334406723,-121.7766706291901.jpg\n",
      "/content/drive/MyDrive/Kevin_Chen/Dataset/2022_Streetview_Images/36.87383239250354,-121.782100924783.jpg\n",
      "/content/drive/MyDrive/Kevin_Chen/Dataset/2022_Streetview_Images/36.85737084809095,-121.7994842828827.jpg\n",
      "/content/drive/MyDrive/Kevin_Chen/Dataset/2022_Streetview_Images/36.85996615036778,-121.7947619828036.jpg\n",
      "/content/drive/MyDrive/Kevin_Chen/Dataset/2022_Streetview_Images/36.87567899996267,-121.7757981967213.jpg\n",
      "/content/drive/MyDrive/Kevin_Chen/Dataset/2022_Streetview_Images/36.84988977307645,-121.7711472239287.jpg\n",
      "/content/drive/MyDrive/Kevin_Chen/Dataset/2022_Streetview_Images/36.85622481088137,-121.7960938736712.jpg\n",
      "/content/drive/MyDrive/Kevin_Chen/Dataset/2022_Streetview_Images/36.8728178391412,-121.7626336021788.jpg\n",
      "/content/drive/MyDrive/Kevin_Chen/Dataset/2022_Streetview_Images/36.86826957890867,-121.7623448711693.jpg\n",
      "/content/drive/MyDrive/Kevin_Chen/Dataset/2022_Streetview_Images/36.87740244185454,-121.7917306636681.jpg\n",
      "/content/drive/MyDrive/Kevin_Chen/Dataset/2022_Streetview_Images/36.85226292736966,-121.783545881888.jpg\n",
      "/content/drive/MyDrive/Kevin_Chen/Dataset/2022_Streetview_Images/36.86000633140077,-121.7711134064985.jpg\n",
      "/content/drive/MyDrive/Kevin_Chen/Dataset/2022_Streetview_Images/36.85382296159504,-121.7723122238039.jpg\n",
      "/content/drive/MyDrive/Kevin_Chen/Dataset/2022_Streetview_Images/36.85812258214057,-121.7711158406584.jpg\n",
      "/content/drive/MyDrive/Kevin_Chen/Dataset/2022_Streetview_Images/36.86914173379349,-121.7703180419336.jpg\n",
      "/content/drive/MyDrive/Kevin_Chen/Dataset/2022_Streetview_Images/36.87752932110715,-121.8049105134522.jpg\n",
      "/content/drive/MyDrive/Kevin_Chen/Dataset/2022_Streetview_Images/36.85720342874841,-121.7959467267603.jpg\n",
      "/content/drive/MyDrive/Kevin_Chen/Dataset/2022_Streetview_Images/36.86648911752243,-121.7961324638508.jpg\n",
      "/content/drive/MyDrive/Kevin_Chen/Dataset/2022_Streetview_Images/36.86912574497022,-121.771476443466.jpg\n",
      "/content/drive/MyDrive/Kevin_Chen/Dataset/2022_Streetview_Images/36.86982520370639,-121.7687668517649.jpg\n",
      "/content/drive/MyDrive/Kevin_Chen/Dataset/2022_Streetview_Images/36.87616481204375,-121.7722373741657.jpg\n",
      "/content/drive/MyDrive/Kevin_Chen/Dataset/2022_Streetview_Images/36.88111162054742,-121.772073069906.jpg\n",
      "/content/drive/MyDrive/Kevin_Chen/Dataset/2022_Streetview_Images/36.85268868961016,-121.7825402465716.jpg\n",
      "/content/drive/MyDrive/Kevin_Chen/Dataset/2022_Streetview_Images/36.85268491315018,-121.7711091467187.jpg\n",
      "/content/drive/MyDrive/Kevin_Chen/Dataset/2022_Streetview_Images/36.87345916298676,-121.7615748312268.jpg\n",
      "/content/drive/MyDrive/Kevin_Chen/Dataset/2022_Streetview_Images/36.872888205991,-121.7871727522388.jpg\n",
      "/content/drive/MyDrive/Kevin_Chen/Dataset/2022_Streetview_Images/36.86820025186613,-121.7705335533414.jpg\n",
      "/content/drive/MyDrive/Kevin_Chen/Dataset/2022_Streetview_Images/36.85352884629837,-121.7881447943157.jpg\n",
      "/content/drive/MyDrive/Kevin_Chen/Dataset/2022_Streetview_Images/36.87553010987745,-121.770677864903.jpg\n",
      "/content/drive/MyDrive/Kevin_Chen/Dataset/2022_Streetview_Images/36.87163553312435,-121.7859027308291.jpg\n",
      "/content/drive/MyDrive/Kevin_Chen/Dataset/2022_Streetview_Images/36.87190740905579,-121.7644358719458.jpg\n",
      "/content/drive/MyDrive/Kevin_Chen/Dataset/2022_Streetview_Images/36.86183633137935,-121.7710934116121.jpg\n",
      "/content/drive/MyDrive/Kevin_Chen/Dataset/2022_Streetview_Images/36.87721305708354,-121.7687504208398.jpg\n",
      "/content/drive/MyDrive/Kevin_Chen/Dataset/2022_Streetview_Images/36.85198592262219,-121.7842111139301.jpg\n",
      "/content/drive/MyDrive/Kevin_Chen/Dataset/2022_Streetview_Images/36.86763383181968,-121.7917949831425.jpg\n",
      "/content/drive/MyDrive/Kevin_Chen/Dataset/2022_Streetview_Images/36.86452895708142,-121.7977953054794.jpg\n",
      "/content/drive/MyDrive/Kevin_Chen/Dataset/2022_Streetview_Images/36.85908663590725,-121.7711160145269.jpg\n",
      "/content/drive/MyDrive/Kevin_Chen/Dataset/2022_Streetview_Images/36.85377365286192,-121.7793394339689.jpg\n",
      "/content/drive/MyDrive/Kevin_Chen/Dataset/2022_Streetview_Images/36.87068503660308,-121.7860365048964.jpg\n",
      "/content/drive/MyDrive/Kevin_Chen/Dataset/2022_Streetview_Images/36.85255264484321,-121.785270887405.jpg\n",
      "/content/drive/MyDrive/Kevin_Chen/Dataset/2022_Streetview_Images/36.8786465623237,-121.8033970879633.jpg\n",
      "/content/drive/MyDrive/Kevin_Chen/Dataset/2022_Streetview_Images/36.87743914891664,-121.7713420434234.jpg\n",
      "/content/drive/MyDrive/Kevin_Chen/Dataset/2022_Streetview_Images/36.87182498844043,-121.784483272924.jpg\n",
      "/content/drive/MyDrive/Kevin_Chen/Dataset/2022_Streetview_Images/36.86543648291226,-121.7714612300152.jpg\n",
      "/content/drive/MyDrive/Kevin_Chen/Dataset/2022_Streetview_Images/36.86367312362723,-121.7710745468682.jpg\n",
      "/content/drive/MyDrive/Kevin_Chen/Dataset/2022_Streetview_Images/36.85846065675447,-121.7952929506009.jpg\n",
      "/content/drive/MyDrive/Kevin_Chen/Dataset/2022_Streetview_Images/36.87438974067437,-121.7815995360316.jpg\n",
      "/content/drive/MyDrive/Kevin_Chen/Dataset/2022_Streetview_Images/36.85286419286324,-121.782115876008.jpg\n",
      "/content/drive/MyDrive/Kevin_Chen/Dataset/2022_Streetview_Images/36.86914397084487,-121.7881228032937.jpg\n",
      "/content/drive/MyDrive/Kevin_Chen/Dataset/2022_Streetview_Images/36.83821039446846,-121.7844312055089.jpg\n",
      "/content/drive/MyDrive/Kevin_Chen/Dataset/2022_Streetview_Images/36.85394616184994,-121.7893521208491.jpg\n",
      "/content/drive/MyDrive/Kevin_Chen/Dataset/2022_Streetview_Images/36.85817509821597,-121.7714152419142.jpg\n",
      "/content/drive/MyDrive/Kevin_Chen/Dataset/2022_Streetview_Images/36.85449262085362,-121.771108016573.jpg\n",
      "/content/drive/MyDrive/Kevin_Chen/Dataset/2022_Streetview_Images/36.87216109446901,-121.7840577797301.jpg\n",
      "/content/drive/MyDrive/Kevin_Chen/Dataset/2022_Streetview_Images/36.8764517762605,-121.7907857715477.jpg\n",
      "/content/drive/MyDrive/Kevin_Chen/Dataset/2022_Streetview_Images/36.87747691109079,-121.7681497775864.jpg\n",
      "/content/drive/MyDrive/Kevin_Chen/Dataset/2022_Streetview_Images/36.88041899435568,-121.8009957625515.jpg\n",
      "/content/drive/MyDrive/Kevin_Chen/Dataset/2022_Streetview_Images/36.85364675705573,-121.7803291904469.jpg\n",
      "/content/drive/MyDrive/Kevin_Chen/Dataset/2022_Streetview_Images/36.85040464401099,-121.7879301860939.jpg\n",
      "/content/drive/MyDrive/Kevin_Chen/Dataset/2022_Streetview_Images/36.86458722834399,-121.7713392615321.jpg\n",
      "/content/drive/MyDrive/Kevin_Chen/Dataset/2022_Streetview_Images/36.87082351903516,-121.7705788463274.jpg\n",
      "/content/drive/MyDrive/Kevin_Chen/Dataset/2022_Streetview_Images/36.86085134850233,-121.7713878576863.jpg\n",
      "/content/drive/MyDrive/Kevin_Chen/Dataset/2022_Streetview_Images/36.87462978846385,-121.7704761764037.jpg\n",
      "/content/drive/MyDrive/Kevin_Chen/Dataset/2022_Streetview_Images/36.86157294570009,-121.7962610976862.jpg\n",
      "/content/drive/MyDrive/Kevin_Chen/Dataset/2022_Streetview_Images/36.87094633762481,-121.7625450093948.jpg\n",
      "/content/drive/MyDrive/Kevin_Chen/Dataset/2022_Streetview_Images/36.87467181095292,-121.7802546938874.jpg\n",
      "/content/drive/MyDrive/Kevin_Chen/Dataset/2022_Streetview_Images/36.86919301699279,-121.7624103377959.jpg\n",
      "/content/drive/MyDrive/Kevin_Chen/Dataset/2022_Streetview_Images/36.8534924812097,-121.7880396198235.jpg\n",
      "/content/drive/MyDrive/Kevin_Chen/Dataset/2022_Streetview_Images/36.84529703603467,-121.7711517445098.jpg\n",
      "/content/drive/MyDrive/Kevin_Chen/Dataset/2022_Streetview_Images/36.87085141875854,-121.7625357936546.jpg\n",
      "/content/drive/MyDrive/Kevin_Chen/Dataset/2022_Streetview_Images/36.87728248728825,-121.7710622021954.jpg\n",
      "/content/drive/MyDrive/Kevin_Chen/Dataset/2022_Streetview_Images/36.87131332963112,-121.7655765989392.jpg\n",
      "/content/drive/MyDrive/Kevin_Chen/Dataset/2022_Streetview_Images/36.86638117430159,-121.7713096169983.jpg\n",
      "/content/drive/MyDrive/Kevin_Chen/Dataset/2022_Streetview_Images/36.86087689628137,-121.7711039306615.jpg\n",
      "/content/drive/MyDrive/Kevin_Chen/Dataset/2022_Streetview_Images/36.87008419665022,-121.7714243699887.jpg\n",
      "/content/drive/MyDrive/Kevin_Chen/Dataset/2022_Streetview_Images/36.85327499142889,-121.7874039639446.jpg\n",
      "/content/drive/MyDrive/Kevin_Chen/Dataset/2022_Streetview_Images/36.86724965251871,-121.7713121380879.jpg\n",
      "/content/drive/MyDrive/Kevin_Chen/Dataset/2022_Streetview_Images/36.87007265320225,-121.7694645987697.jpg\n",
      "/content/drive/MyDrive/Kevin_Chen/Dataset/2022_Streetview_Images/36.85077796844267,-121.7711382697001.jpg\n",
      "/content/drive/MyDrive/Kevin_Chen/Dataset/2022_Streetview_Images/36.8516648807654,-121.7711268813112.jpg\n",
      "/content/drive/MyDrive/Kevin_Chen/Dataset/2022_Streetview_Images/36.87560921235836,-121.7709401463425.jpg\n",
      "/content/drive/MyDrive/Kevin_Chen/Dataset/2022_Streetview_Images/36.8828201574221,-121.7626062158006.jpg\n",
      "/content/drive/MyDrive/Kevin_Chen/Dataset/2022_Streetview_Images/36.87222971719264,-121.7638170350739.jpg\n",
      "/content/drive/MyDrive/Kevin_Chen/Dataset/2022_Streetview_Images/36.8673862624845,-121.7943035006372.jpg\n",
      "/content/drive/MyDrive/Kevin_Chen/Dataset/2022_Streetview_Images/36.88303843824212,-121.7948203033383.jpg\n",
      "/content/drive/MyDrive/Kevin_Chen/Dataset/2022_Streetview_Images/36.85382349709128,-121.7732489267104.jpg\n",
      "/content/drive/MyDrive/Kevin_Chen/Dataset/2022_Streetview_Images/36.88401125247807,-121.7993101107157.jpg\n",
      "/content/drive/MyDrive/Kevin_Chen/Dataset/2022_Streetview_Images/36.83972668780344,-121.7709907421609.jpg\n",
      "/content/drive/MyDrive/Kevin_Chen/Dataset/2022_Streetview_Images/36.85630544329201,-121.771115405987.jpg\n",
      "/content/drive/MyDrive/Kevin_Chen/Dataset/2022_Streetview_Images/36.85380919841672,-121.7758389671827.jpg\n",
      "/content/drive/MyDrive/Kevin_Chen/Dataset/2022_Streetview_Images/36.85121739194003,-121.7860483263787.jpg\n",
      "/content/drive/MyDrive/Kevin_Chen/Dataset/2022_Streetview_Images/36.86215572239895,-121.7975503829456.jpg\n",
      "/content/drive/MyDrive/Kevin_Chen/Dataset/2022_Streetview_Images/36.8758621663971,-121.7740784346934.jpg\n",
      "/content/drive/MyDrive/Kevin_Chen/Dataset/2022_Streetview_Images/36.84718427047746,-121.7711498319563.jpg\n",
      "/content/drive/MyDrive/Kevin_Chen/Dataset/2022_Streetview_Images/36.87198010793094,-121.7862518990617.jpg\n",
      "/content/drive/MyDrive/Kevin_Chen/Dataset/2022_Streetview_Images/36.87595772328775,-121.7732128496673.jpg\n",
      "/content/drive/MyDrive/Kevin_Chen/Dataset/2022_Streetview_Images/36.87839149551775,-121.7923447392996.jpg\n",
      "/content/drive/MyDrive/Kevin_Chen/Dataset/2022_Streetview_Images/36.88197646579971,-121.7942510032224.jpg\n",
      "/content/drive/MyDrive/Kevin_Chen/Dataset/2022_Streetview_Images/36.85687464006068,-121.798010763857.jpg\n",
      "/content/drive/MyDrive/Kevin_Chen/Dataset/2022_Streetview_Images/36.88091577861289,-121.7936847422858.jpg\n",
      "/content/drive/MyDrive/Kevin_Chen/Dataset/2022_Streetview_Images/36.88127337054524,-121.7998381887632.jpg\n",
      "/content/drive/MyDrive/Kevin_Chen/Dataset/2022_Streetview_Images/36.87160757277599,-121.7650116705857.jpg\n",
      "/content/drive/MyDrive/Kevin_Chen/Dataset/2022_Streetview_Images/36.87472604955168,-121.7793679463105.jpg\n",
      "/content/drive/MyDrive/Kevin_Chen/Dataset/2022_Streetview_Images/36.87486570951327,-121.7785389122365.jpg\n",
      "/content/drive/MyDrive/Kevin_Chen/Dataset/2022_Streetview_Images/36.85821254589153,-121.7954267134107.jpg\n",
      "/content/drive/MyDrive/Kevin_Chen/Dataset/2022_Streetview_Images/36.88262135983215,-121.7633787699139.jpg\n",
      "/content/drive/MyDrive/Kevin_Chen/Dataset/2022_Streetview_Images/36.88285108549587,-121.7723556035364.jpg\n",
      "/content/drive/MyDrive/Kevin_Chen/Dataset/2022_Streetview_Images/36.84624535855152,-121.7711586123154.jpg\n",
      "/content/drive/MyDrive/Kevin_Chen/Dataset/2022_Streetview_Images/36.84059885210452,-121.805203838843.jpg\n",
      "/content/drive/MyDrive/Kevin_Chen/Dataset/2022_Streetview_Images/36.88006888500963,-121.7716565705659.jpg\n",
      "/content/drive/MyDrive/Kevin_Chen/Dataset/2022_Streetview_Images/36.85597731838212,-121.7953300634953.jpg\n",
      "/content/drive/MyDrive/Kevin_Chen/Dataset/2022_Streetview_Images/36.87189838301276,-121.7702186752995.jpg\n",
      "/content/drive/MyDrive/Kevin_Chen/Dataset/2022_Streetview_Images/36.85470655800318,-121.7915873354085.jpg\n",
      "/content/drive/MyDrive/Kevin_Chen/Dataset/2022_Streetview_Images/36.88456721507325,-121.7998325394885.jpg\n",
      "/content/drive/MyDrive/Kevin_Chen/Dataset/2022_Streetview_Images/36.84163115319075,-121.771035078684.jpg\n",
      "/content/drive/MyDrive/Kevin_Chen/Dataset/2022_Streetview_Images/36.85071872211398,-121.787212475487.jpg\n",
      "/content/drive/MyDrive/Kevin_Chen/Dataset/2022_Streetview_Images/36.85151508713576,-121.7853419036898.jpg\n",
      "/content/drive/MyDrive/Kevin_Chen/Dataset/2022_Streetview_Images/36.85338397627947,-121.7809454150412.jpg\n",
      "/content/drive/MyDrive/Kevin_Chen/Dataset/2022_Streetview_Images/36.86639704980209,-121.7706934261988.jpg\n",
      "/content/drive/MyDrive/Kevin_Chen/Dataset/2022_Streetview_Images/36.88018468946433,-121.7932478111224.jpg\n",
      "/content/drive/MyDrive/Kevin_Chen/Dataset/2022_Streetview_Images/36.88196152532656,-121.7719923086232.jpg\n",
      "/content/drive/MyDrive/Kevin_Chen/Dataset/2022_Streetview_Images/36.88089222399125,-121.8003545312556.jpg\n",
      "/content/drive/MyDrive/Kevin_Chen/Dataset/2022_Streetview_Images/36.84261576898562,-121.7710573338733.jpg\n",
      "/content/drive/MyDrive/Kevin_Chen/Dataset/2022_Streetview_Images/36.85560232369389,-121.7942207563564.jpg\n",
      "/content/drive/MyDrive/Kevin_Chen/Dataset/2022_Streetview_Images/36.87313688571738,-121.7620219714705.jpg\n",
      "/content/drive/MyDrive/Kevin_Chen/Dataset/2022_Streetview_Images/36.8792239749521,-121.7714827896477.jpg\n",
      "/content/drive/MyDrive/Kevin_Chen/Dataset/2022_Streetview_Images/36.88167126879846,-121.7992990728496.jpg\n",
      "/content/drive/MyDrive/Kevin_Chen/Dataset/2022_Streetview_Images/36.85378368139434,-121.7888817952694.jpg\n",
      "/content/drive/MyDrive/Kevin_Chen/Dataset/2022_Streetview_Images/36.87024802650385,-121.7866205367797.jpg\n",
      "/content/drive/MyDrive/Kevin_Chen/Dataset/2022_Streetview_Images/36.88378899187624,-121.7722681485874.jpg\n",
      "/content/drive/MyDrive/Kevin_Chen/Dataset/2022_Streetview_Images/36.88476187759797,-121.7726643033113.jpg\n",
      "/content/drive/MyDrive/Kevin_Chen/Dataset/2022_Streetview_Images/36.88301737927015,-121.7618439154491.jpg\n",
      "/content/drive/MyDrive/Kevin_Chen/Dataset/2022_Streetview_Images/36.85444685071787,-121.7718279170697.jpg\n",
      "/content/drive/MyDrive/Kevin_Chen/Dataset/2022_Streetview_Images/36.87555977175958,-121.7898838097521.jpg\n",
      "/content/drive/MyDrive/Kevin_Chen/Dataset/2022_Streetview_Images/36.8600117995433,-121.7713964641587.jpg\n",
      "/content/drive/MyDrive/Kevin_Chen/Dataset/2022_Streetview_Images/36.87254505872915,-121.7868245430294.jpg\n",
      "/content/drive/MyDrive/Kevin_Chen/Dataset/2022_Streetview_Images/36.8563562807958,-121.7715229531455.jpg\n",
      "/content/drive/MyDrive/Kevin_Chen/Dataset/2022_Streetview_Images/36.87460770516851,-121.7811276131133.jpg\n",
      "/content/drive/MyDrive/Kevin_Chen/Dataset/2022_Streetview_Images/36.85420718851496,-121.7901070192477.jpg\n",
      "/content/drive/MyDrive/Kevin_Chen/Dataset/2022_Streetview_Images/36.84351056853,-121.7710799367954.jpg\n",
      "/content/drive/MyDrive/Kevin_Chen/Dataset/2022_Streetview_Images/36.86972953606221,-121.7873134785183.jpg\n",
      "/content/drive/MyDrive/Kevin_Chen/Dataset/2022_Streetview_Images/36.85723437446254,-121.7711156667898.jpg\n",
      "/content/drive/MyDrive/Kevin_Chen/Dataset/2022_Streetview_Images/36.86989662287501,-121.7706337021075.jpg\n",
      "/content/drive/MyDrive/Kevin_Chen/Dataset/2022_Streetview_Images/36.87370011404948,-121.7705248598679.jpg\n",
      "/content/drive/MyDrive/Kevin_Chen/Dataset/2022_Streetview_Images/36.86725412198766,-121.7617555828646.jpg\n",
      "/content/drive/MyDrive/Kevin_Chen/Dataset/2022_Streetview_Images/36.86236762816741,-121.7980591745767.jpg\n",
      "/content/drive/MyDrive/Kevin_Chen/Dataset/2022_Streetview_Images/36.87104975708676,-121.785549128429.jpg\n",
      "/content/drive/MyDrive/Kevin_Chen/Dataset/2022_Streetview_Images/36.87698305111518,-121.76950598009.jpg\n",
      "/content/drive/MyDrive/Kevin_Chen/Dataset/2022_Streetview_Images/36.87099421251494,-121.7661903836671.jpg\n",
      "/content/drive/MyDrive/Kevin_Chen/Dataset/2022_Streetview_Images/36.8726327193108,-121.7834606957398.jpg\n",
      "/content/drive/MyDrive/Kevin_Chen/Dataset/2022_Streetview_Images/36.87001734017279,-121.7624697185145.jpg\n",
      "/content/drive/MyDrive/Kevin_Chen/Dataset/2022_Streetview_Images/36.85379352432116,-121.7775427940592.jpg\n",
      "/content/drive/MyDrive/Kevin_Chen/Dataset/2022_Streetview_Images/36.87688358852701,-121.7698325964019.jpg\n",
      "/content/drive/MyDrive/Kevin_Chen/Dataset/2022_Streetview_Images/36.85378279598258,-121.7785149199666.jpg\n",
      "/content/drive/MyDrive/Kevin_Chen/Dataset/2022_Streetview_Images/36.86551195338887,-121.7969574561169.jpg\n",
      "/content/drive/MyDrive/Kevin_Chen/Dataset/2022_Streetview_Images/36.8509944054289,-121.7865778579645.jpg\n",
      "/content/drive/MyDrive/Kevin_Chen/Dataset/2022_Streetview_Images/36.87887865457192,-121.7678082032219.jpg\n",
      "/content/drive/MyDrive/Kevin_Chen/Dataset/2022_Streetview_Images/36.88021752691228,-121.7719310204202.jpg\n",
      "/content/drive/MyDrive/Kevin_Chen/Dataset/2022_Streetview_Images/36.88296092804691,-121.7984988681049.jpg\n",
      "/content/drive/MyDrive/Kevin_Chen/Dataset/2022_Streetview_Images/36.85879804069254,-121.7950976513956.jpg\n",
      "/content/drive/MyDrive/Kevin_Chen/Dataset/2022_Streetview_Images/36.85446970477513,-121.7909204958697.jpg\n",
      "/content/drive/MyDrive/Kevin_Chen/Dataset/2022_Streetview_Images/36.88474415590378,-121.7724228899019.jpg\n",
      "/content/drive/MyDrive/Kevin_Chen/Dataset/2022_Streetview_Images/36.87912934971336,-121.7927165728373.jpg\n",
      "/content/drive/MyDrive/Kevin_Chen/Dataset/2022_Streetview_Images/36.85896690822452,-121.795002391846.jpg\n",
      "/content/drive/MyDrive/Kevin_Chen/Dataset/2022_Streetview_Images/36.86541568248676,-121.7720770688486.jpg\n",
      "/content/drive/MyDrive/Kevin_Chen/Dataset/2022_Streetview_Images/36.88099258515006,-121.7718437390065.jpg\n",
      "/content/drive/MyDrive/Kevin_Chen/Dataset/2022_Streetview_Images/36.85535287944612,-121.7934855290056.jpg\n",
      "/content/drive/MyDrive/Kevin_Chen/Dataset/2022_Streetview_Images/36.88281296752361,-121.7977481114347.jpg\n",
      "/content/drive/MyDrive/Kevin_Chen/Dataset/2022_Streetview_Images/36.8835875854159,-121.7967200932911.jpg\n",
      "/content/drive/MyDrive/Kevin_Chen/Dataset/2022_Streetview_Images/36.86551012522494,-121.7709302358187.jpg\n",
      "/content/drive/MyDrive/Kevin_Chen/Dataset/2022_Streetview_Images/36.85287787700445,-121.786231472272.jpg\n",
      "/content/drive/MyDrive/Kevin_Chen/Dataset/2022_Streetview_Images/36.86389547313642,-121.7982800210586.jpg\n",
      "/content/drive/MyDrive/Kevin_Chen/Dataset/2022_Streetview_Images/36.86717861873851,-121.7950348983073.jpg\n",
      "/content/drive/MyDrive/Kevin_Chen/Dataset/2022_Streetview_Images/36.87949541789067,-121.7654518419998.jpg\n",
      "/content/drive/MyDrive/Kevin_Chen/Dataset/2022_Streetview_Images/36.87464784138938,-121.7889582852418.jpg\n",
      "/content/drive/MyDrive/Kevin_Chen/Dataset/2022_Streetview_Images/36.8627003991796,-121.771367862849.jpg\n",
      "/content/drive/MyDrive/Kevin_Chen/Dataset/2022_Streetview_Images/36.84802686587553,-121.7711413993334.jpg\n",
      "/content/drive/MyDrive/Kevin_Chen/Dataset/2022_Streetview_Images/36.87296458377126,-121.7830405010744.jpg\n",
      "/content/drive/MyDrive/Kevin_Chen/Dataset/2022_Streetview_Images/36.8551030555797,-121.7927468201112.jpg\n",
      "/content/drive/MyDrive/Kevin_Chen/Dataset/2022_Streetview_Images/36.86827985973775,-121.771361690529.jpg\n",
      "/content/drive/MyDrive/Kevin_Chen/Dataset/2022_Streetview_Images/36.8819474493263,-121.7722034701319.jpg\n",
      "/content/drive/MyDrive/Kevin_Chen/Dataset/2022_Streetview_Images/36.85359830912815,-121.7710934116121.jpg\n",
      "/content/drive/MyDrive/Kevin_Chen/Dataset/2022_Streetview_Images/36.88197440315611,-121.7642905959941.jpg\n",
      "/content/drive/MyDrive/Kevin_Chen/Dataset/2022_Streetview_Images/36.88391308478519,-121.7962809142369.jpg\n",
      "/content/drive/MyDrive/Kevin_Chen/Dataset/2022_Streetview_Images/36.86357391804849,-121.7985019100584.jpg\n",
      "/content/drive/MyDrive/Kevin_Chen/Dataset/2022_Streetview_Images/36.85206223262701,-121.7840236185106.jpg\n",
      "/content/drive/MyDrive/Kevin_Chen/Dataset/2022_Streetview_Images/36.86098435430709,-121.7950958261678.jpg\n",
      "/content/drive/MyDrive/Kevin_Chen/Dataset/2022_Streetview_Images/36.84444765133606,-121.7711227084662.jpg\n",
      "/content/drive/MyDrive/Kevin_Chen/Dataset/2022_Streetview_Images/36.85904619224304,-121.7714062877071.jpg\n",
      "/content/drive/MyDrive/Kevin_Chen/Dataset/2022_Streetview_Images/36.86741960152629,-121.7926315675235.jpg\n",
      "/content/drive/MyDrive/Kevin_Chen/Dataset/2022_Streetview_Images/36.8782325461013,-121.803957998142.jpg\n",
      "/content/drive/MyDrive/Kevin_Chen/Dataset/2022_Streetview_Images/36.85782154436097,-121.7711157537241.jpg\n",
      "/content/drive/MyDrive/Kevin_Chen/Dataset/2022_Streetview_Images/36.86818412349704,-121.7899084949363.jpg\n",
      "/content/drive/MyDrive/Kevin_Chen/Dataset/2022_Streetview_Images/36.83824298924637,-121.7759280710178.jpg\n",
      "/content/drive/MyDrive/Kevin_Chen/Dataset/2022_Streetview_Images/36.86992611164273,-121.7870507139875.jpg\n",
      "/content/drive/MyDrive/Kevin_Chen/Dataset/2022_Streetview_Images/36.86185976260313,-121.7968403826808.jpg\n",
      "/content/drive/MyDrive/Kevin_Chen/Dataset/2022_Streetview_Images/36.86360804427699,-121.7713566483518.jpg\n",
      "/content/drive/MyDrive/Kevin_Chen/Dataset/2022_Streetview_Images/36.85705469252426,-121.7985439759216.jpg\n",
      "/content/drive/MyDrive/Kevin_Chen/Dataset/2022_Streetview_Images/36.8709682269716,-121.7713060526989.jpg\n",
      "/content/drive/MyDrive/Kevin_Chen/Dataset/2022_Streetview_Images/36.84992914374421,-121.7890166088105.jpg\n",
      "/content/drive/MyDrive/Kevin_Chen/Dataset/2022_Streetview_Images/36.85021160088074,-121.7883704410734.jpg\n",
      "/content/drive/MyDrive/Kevin_Chen/Dataset/2022_Streetview_Images/36.85328386067355,-121.7811776827604.jpg\n",
      "/content/drive/MyDrive/Kevin_Chen/Dataset/2022_Streetview_Images/36.87252496504217,-121.7632501851462.jpg\n",
      "/content/drive/MyDrive/Kevin_Chen/Dataset/2022_Streetview_Images/36.86179894588342,-121.7713778602681.jpg\n",
      "/content/drive/MyDrive/Kevin_Chen/Dataset/2022_Streetview_Images/36.85381375712566,-121.7749906951151.jpg\n",
      "/content/drive/MyDrive/Kevin_Chen/Dataset/2022_Streetview_Images/36.88014941320404,-121.8013609620284.jpg\n",
      "/content/drive/MyDrive/Kevin_Chen/Dataset/2022_Streetview_Images/36.85237205699784,-121.7847372642068.jpg\n",
      "/content/drive/MyDrive/Kevin_Chen/Dataset/2022_Streetview_Images/36.85262496816394,-121.7854846315086.jpg\n",
      "/content/drive/MyDrive/Kevin_Chen/Dataset/2022_Streetview_Images/36.8757684365873,-121.7749485334435.jpg\n",
      "/content/drive/MyDrive/Kevin_Chen/Dataset/2022_Streetview_Images/36.85712855665997,-121.7987585637248.jpg\n",
      "/content/drive/MyDrive/Kevin_Chen/Dataset/2022_Streetview_Images/36.86271676026917,-121.7710837619048.jpg\n",
      "/content/drive/MyDrive/Kevin_Chen/Dataset/2022_Streetview_Images/36.87342643504237,-121.7824777471982.jpg\n",
      "/content/drive/MyDrive/Kevin_Chen/Dataset/2022_Streetview_Images/36.86797451702397,-121.7906289696159.jpg\n",
      "/content/drive/MyDrive/Kevin_Chen/Dataset/2022_Streetview_Images/36.87187201697716,-121.7698000826037.jpg\n",
      "/content/drive/MyDrive/Kevin_Chen/Dataset/2022_Streetview_Images/36.87827590058724,-121.7681753369395.jpg\n",
      "/content/drive/MyDrive/Kevin_Chen/Dataset/2022_Streetview_Images/36.87282113808273,-121.7706163151754.jpg\n",
      "/content/drive/MyDrive/Kevin_Chen/Dataset/2022_Streetview_Images/36.87831965127513,-121.7715341676261.jpg\n",
      "/content/drive/MyDrive/Kevin_Chen/Dataset/2022_Streetview_Images/36.83985817026758,-121.7709947411421.jpg\n",
      "/content/drive/MyDrive/Kevin_Chen/Dataset/2022_Streetview_Images/36.84902429517076,-121.7711506143645.jpg\n",
      "/content/drive/MyDrive/Kevin_Chen/Dataset/2022_Streetview_Images/36.8820617560349,-121.7987699492954.jpg\n",
      "/content/drive/MyDrive/Kevin_Chen/Dataset/2022_Streetview_Images/36.86841017212648,-121.7891642863839.jpg\n",
      "/content/drive/MyDrive/Kevin_Chen/Dataset/2022_Streetview_Images/36.88366100991041,-121.7989813208982.jpg\n",
      "/content/drive/MyDrive/Kevin_Chen/Dataset/2022_Streetview_Images/36.8426469,-121.8048278.jpg\n",
      "/content/drive/MyDrive/Kevin_Chen/Dataset/2022_Streetview_Images/36.85443409773686,-121.7908108042082.jpg\n",
      "/content/drive/MyDrive/Kevin_Chen/Dataset/2022_Streetview_Images/36.85922381940892,-121.7948787976742.jpg\n",
      "/content/drive/MyDrive/Kevin_Chen/Dataset/2022_Streetview_Images/36.8691183302716,-121.769600478972.jpg\n",
      "/content/drive/MyDrive/Kevin_Chen/Dataset/2022_Streetview_Images/36.87101577807795,-121.7696247339619.jpg\n",
      "/content/drive/MyDrive/Kevin_Chen/Dataset/2022_Streetview_Images/36.85796587084505,-121.7955511761279.jpg\n",
      "/content/drive/MyDrive/Kevin_Chen/Dataset/2022_Streetview_Images/36.86067961594215,-121.7711060170844.jpg\n",
      "/content/drive/MyDrive/Kevin_Chen/Dataset/2022_Streetview_Images/36.85181735559242,-121.7846253064504.jpg\n",
      "/content/drive/MyDrive/Kevin_Chen/Dataset/2022_Streetview_Images/36.88012969622822,-121.7641159342321.jpg\n"
     ]
    }
   ],
   "source": [
    "# from pathlib import Path\n",
    "\n",
    "# for loc in succeeded:\n",
    "#   p = Path('/content/drive/MyDrive/Kevin_Chen/Dataset/2022_Streetview_Images/{},{}.jpg'.format(loc[0], loc[1]))\n",
    "#   p.rename(Path(p.parent, f\"{p.stem}_0{p.suffix}\"))\n",
    "#   print(p)"
   ]
  }
 ],
 "metadata": {
  "colab": {
   "authorship_tag": "ABX9TyOQx2Sg33u0Fv0+nu8TaYrI",
   "provenance": []
  },
  "kernelspec": {
   "display_name": "Python 3 (ipykernel)",
   "language": "python",
   "name": "python3"
  },
  "language_info": {
   "codemirror_mode": {
    "name": "ipython",
    "version": 3
   },
   "file_extension": ".py",
   "mimetype": "text/x-python",
   "name": "python",
   "nbconvert_exporter": "python",
   "pygments_lexer": "ipython3",
   "version": "3.9.13"
  }
 },
 "nbformat": 4,
 "nbformat_minor": 1
}
